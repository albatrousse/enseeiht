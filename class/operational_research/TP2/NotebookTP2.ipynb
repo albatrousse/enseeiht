{
 "cells": [
  {
   "cell_type": "markdown",
   "metadata": {},
   "source": [
    "# TP 2 : Branch-and-bound applied to a knapsack problem"
   ]
  },
  {
   "cell_type": "markdown",
   "metadata": {},
   "source": [
    "### Initialisation (à faire une seule fois)"
   ]
  },
  {
   "cell_type": "code",
   "execution_count": 1,
   "metadata": {},
   "outputs": [
    {
     "name": "stderr",
     "output_type": "stream",
     "text": [
      "\u001b[32m\u001b[1m    Updating\u001b[22m\u001b[39m registry at `~/.julia/registries/General.toml`\n"
     ]
    },
    {
     "name": "stderr",
     "output_type": "stream",
     "text": [
      "\u001b[32m\u001b[1m   Resolving\u001b[22m\u001b[39m package versions...\n"
     ]
    },
    {
     "name": "stderr",
     "output_type": "stream",
     "text": [
      "\u001b[32m\u001b[1m   Installed\u001b[22m\u001b[39m EarCut_jll ─────── v2.2.4+0\n"
     ]
    },
    {
     "name": "stderr",
     "output_type": "stream",
     "text": [
      "\u001b[32m\u001b[1m   Installed\u001b[22m\u001b[39m OffsetArrays ───── v1.12.10\n",
      "\u001b[32m\u001b[1m   Installed\u001b[22m\u001b[39m NetworkLayout ──── v0.4.6\n",
      "\u001b[32m\u001b[1m   Installed\u001b[22m\u001b[39m StaticArraysCore ─ v1.4.2\n",
      "\u001b[32m\u001b[1m   Installed\u001b[22m\u001b[39m ArnoldiMethod ──── v0.2.0\n",
      "\u001b[32m\u001b[1m   Installed\u001b[22m\u001b[39m Ratios ─────────── v0.4.5\n"
     ]
    },
    {
     "name": "stderr",
     "output_type": "stream",
     "text": [
      "\u001b[32m\u001b[1m   Installed\u001b[22m\u001b[39m StaticArrays ───── v1.7.0\n",
      "\u001b[32m\u001b[1m   Installed\u001b[22m\u001b[39m GraphRecipes ───── v0.5.12\n"
     ]
    },
    {
     "name": "stderr",
     "output_type": "stream",
     "text": [
      "\u001b[32m\u001b[1m   Installed\u001b[22m\u001b[39m Inflate ────────── v0.1.4\n"
     ]
    },
    {
     "name": "stderr",
     "output_type": "stream",
     "text": [
      "\u001b[32m\u001b[1m   Installed\u001b[22m\u001b[39m GeometryTypes ──── v0.8.5\n",
      "\u001b[32m\u001b[1m   Installed\u001b[22m\u001b[39m Extents ────────── v0.1.2\n",
      "\u001b[32m\u001b[1m   Installed\u001b[22m\u001b[39m GPUArraysCore ──── v0.1.5\n",
      "\u001b[32m\u001b[1m   Installed\u001b[22m\u001b[39m SimpleTraits ───── v0.9.4\n",
      "\u001b[32m\u001b[1m   Installed\u001b[22m\u001b[39m AbstractTrees ──── v0.4.4\n"
     ]
    },
    {
     "name": "stderr",
     "output_type": "stream",
     "text": [
      "\u001b[32m\u001b[1m   Installed\u001b[22m\u001b[39m Graphs ─────────── v1.9.0\n",
      "\u001b[32m\u001b[1m   Installed\u001b[22m\u001b[39m Adapt ──────────── v3.7.1\n"
     ]
    },
    {
     "name": "stderr",
     "output_type": "stream",
     "text": [
      "\u001b[32m\u001b[1m   Installed\u001b[22m\u001b[39m AxisAlgorithms ─── v1.0.1\n"
     ]
    },
    {
     "name": "stderr",
     "output_type": "stream",
     "text": [
      "\u001b[32m\u001b[1m   Installed\u001b[22m\u001b[39m StructArrays ───── v0.6.16\n",
      "\u001b[32m\u001b[1m   Installed\u001b[22m\u001b[39m GeometryBasics ─── v0.4.9\n",
      "\u001b[32m\u001b[1m   Installed\u001b[22m\u001b[39m IterTools ──────── v1.8.0\n",
      "\u001b[32m\u001b[1m   Installed\u001b[22m\u001b[39m WoodburyMatrices ─ v0.5.6\n",
      "\u001b[32m\u001b[1m   Installed\u001b[22m\u001b[39m GeoInterface ───── v1.3.2\n",
      "\u001b[32m\u001b[1m   Installed\u001b[22m\u001b[39m Interpolations ─── v0.14.7\n"
     ]
    },
    {
     "name": "stderr",
     "output_type": "stream",
     "text": [
      "\u001b[32m\u001b[1m    Updating\u001b[22m\u001b[39m `~/.julia/environments/v1.8/Project.toml`\n",
      " \u001b[90m [bd48cda9] \u001b[39m\u001b[92m+ GraphRecipes v0.5.12\u001b[39m\n",
      "\u001b[32m\u001b[1m    Updating\u001b[22m\u001b[39m `~/.julia/environments/v1.8/Manifest.toml`\n"
     ]
    },
    {
     "name": "stderr",
     "output_type": "stream",
     "text": [
      " \u001b[90m [1520ce14] \u001b[39m\u001b[92m+ AbstractTrees v0.4.4\u001b[39m\n",
      " \u001b[90m [79e6a3ab] \u001b[39m\u001b[92m+ Adapt v3.7.1\u001b[39m\n",
      " \u001b[90m [ec485272] \u001b[39m\u001b[92m+ ArnoldiMethod v0.2.0\u001b[39m\n",
      " \u001b[90m [13072b0f] \u001b[39m\u001b[92m+ AxisAlgorithms v1.0.1\u001b[39m\n",
      " \u001b[90m [411431e0] \u001b[39m\u001b[92m+ Extents v0.1.2\u001b[39m\n",
      " \u001b[90m [46192b85] \u001b[39m\u001b[92m+ GPUArraysCore v0.1.5\u001b[39m\n",
      " \u001b[90m [cf35fbd7] \u001b[39m\u001b[92m+ GeoInterface v1.3.2\u001b[39m\n",
      " \u001b[90m [5c1252a2] \u001b[39m\u001b[92m+ GeometryBasics v0.4.9\u001b[39m\n",
      " \u001b[90m [4d00f742] \u001b[39m\u001b[92m+ GeometryTypes v0.8.5\u001b[39m\n",
      " \u001b[90m [bd48cda9] \u001b[39m\u001b[92m+ GraphRecipes v0.5.12\u001b[39m\n",
      " \u001b[90m [86223c79] \u001b[39m\u001b[92m+ Graphs v1.9.0\u001b[39m\n",
      " \u001b[90m [d25df0c9] \u001b[39m\u001b[92m+ Inflate v0.1.4\u001b[39m\n",
      "\u001b[33m⌅\u001b[39m\u001b[90m [a98d9a8b] \u001b[39m\u001b[92m+ Interpolations v0.14.7\u001b[39m\n",
      " \u001b[90m [c8e1da08] \u001b[39m\u001b[92m+ IterTools v1.8.0\u001b[39m\n",
      " \u001b[90m [46757867] \u001b[39m\u001b[92m+ NetworkLayout v0.4.6\u001b[39m\n",
      " \u001b[90m [6fe1bfb0] \u001b[39m\u001b[92m+ OffsetArrays v1.12.10\u001b[39m\n",
      " \u001b[90m [c84ed2f1] \u001b[39m\u001b[92m+ Ratios v0.4.5\u001b[39m\n",
      " \u001b[90m [699a6c99] \u001b[39m\u001b[92m+ SimpleTraits v0.9.4\u001b[39m\n",
      " \u001b[90m [90137ffa] \u001b[39m\u001b[92m+ StaticArrays v1.7.0\u001b[39m\n",
      " \u001b[90m [1e83bf80] \u001b[39m\u001b[92m+ StaticArraysCore v1.4.2\u001b[39m\n",
      " \u001b[90m [09ab397b] \u001b[39m\u001b[92m+ StructArrays v0.6.16\u001b[39m\n",
      " \u001b[90m [efce3f68] \u001b[39m\u001b[92m+ WoodburyMatrices v0.5.6\u001b[39m\n",
      " \u001b[90m [5ae413db] \u001b[39m\u001b[92m+ EarCut_jll v2.2.4+0\u001b[39m\n",
      " \u001b[90m [1a1011a3] \u001b[39m\u001b[92m+ SharedArrays\u001b[39m\n",
      "\u001b[36m\u001b[1m        Info\u001b[22m\u001b[39m Packages marked with \u001b[33m⌅\u001b[39m have new versions available but compatibility constraints restrict them from upgrading. To see why use `status --outdated -m`\n"
     ]
    },
    {
     "name": "stderr",
     "output_type": "stream",
     "text": [
      "\u001b[32m\u001b[1mPrecompiling\u001b[22m\u001b[39m "
     ]
    },
    {
     "name": "stderr",
     "output_type": "stream",
     "text": [
      "project...\n"
     ]
    },
    {
     "name": "stderr",
     "output_type": "stream",
     "text": [
      "\u001b[32m  ✓ \u001b[39m\u001b[90mWoodburyMatrices\u001b[39m\n",
      "\u001b[32m  ✓ \u001b[39m\u001b[90mIterTools\u001b[39m\n",
      "\u001b[32m  ✓ \u001b[39m\u001b[90mExtents\u001b[39m\n",
      "\u001b[32m  ✓ \u001b[39m\u001b[90mRatios\u001b[39m\n",
      "\u001b[32m  ✓ \u001b[39m\u001b[90mInflate\u001b[39m\n",
      "\u001b[32m  ✓ \u001b[39m\u001b[90mAdapt\u001b[39m\n",
      "\u001b[32m  ✓ \u001b[39m\u001b[90mStaticArraysCore\u001b[39m\n",
      "\u001b[32m  ✓ \u001b[39m\u001b[90mEarCut_jll\u001b[39m\n",
      "\u001b[32m  ✓ \u001b[39m\u001b[90mAbstractTrees\u001b[39m\n"
     ]
    },
    {
     "name": "stderr",
     "output_type": "stream",
     "text": [
      "\u001b[32m  ✓ \u001b[39m\u001b[90mAxisAlgorithms\u001b[39m\n",
      "\u001b[32m  ✓ \u001b[39m\u001b[90mGPUArraysCore\u001b[39m\n"
     ]
    },
    {
     "name": "stderr",
     "output_type": "stream",
     "text": [
      "\u001b[32m  ✓ \u001b[39m\u001b[90mSimpleTraits\u001b[39m\n"
     ]
    },
    {
     "name": "stderr",
     "output_type": "stream",
     "text": [
      "\u001b[32m  ✓ \u001b[39m\u001b[90mGeoInterface\u001b[39m\n",
      "\u001b[32m  ✓ \u001b[39m\u001b[90mOffsetArrays\u001b[39m\n"
     ]
    },
    {
     "name": "stderr",
     "output_type": "stream",
     "text": [
      "\u001b[32m  ✓ \u001b[39m\u001b[90mStructArrays\u001b[39m\n"
     ]
    },
    {
     "name": "stderr",
     "output_type": "stream",
     "text": [
      "\u001b[32m  ✓ \u001b[39m\u001b[90mStaticArrays\u001b[39m\n"
     ]
    },
    {
     "name": "stderr",
     "output_type": "stream",
     "text": [
      "\u001b[32m  ✓ \u001b[39m\u001b[90mArnoldiMethod\u001b[39m\n"
     ]
    },
    {
     "name": "stderr",
     "output_type": "stream",
     "text": [
      "\u001b[32m  ✓ \u001b[39m\u001b[90mGeometryTypes\u001b[39m\n"
     ]
    },
    {
     "name": "stderr",
     "output_type": "stream",
     "text": [
      "\u001b[32m  ✓ \u001b[39m\u001b[90mInterpolations\u001b[39m\n"
     ]
    },
    {
     "name": "stderr",
     "output_type": "stream",
     "text": [
      "\u001b[32m  ✓ \u001b[39m\u001b[90mGeometryBasics\u001b[39m\n"
     ]
    },
    {
     "name": "stderr",
     "output_type": "stream",
     "text": [
      "\u001b[32m  ✓ \u001b[39m\u001b[90mGraphs\u001b[39m\n"
     ]
    },
    {
     "name": "stderr",
     "output_type": "stream",
     "text": [
      "\u001b[32m  ✓ \u001b[39m\u001b[90mNetworkLayout\u001b[39m\n"
     ]
    },
    {
     "name": "stderr",
     "output_type": "stream",
     "text": [
      "\u001b[32m  ✓ \u001b[39mGraphRecipes\n"
     ]
    },
    {
     "name": "stderr",
     "output_type": "stream",
     "text": [
      "  23 dependencies successfully precompiled in 29 seconds. 170 already precompiled.\n",
      "\u001b[32m\u001b[1m   Resolving\u001b[22m\u001b[39m package versions...\n"
     ]
    },
    {
     "name": "stderr",
     "output_type": "stream",
     "text": [
      "\u001b[32m\u001b[1m  No Changes\u001b[22m\u001b[39m to `~/.julia/environments/v1.8/Project.toml`\n",
      "\u001b[32m\u001b[1m  No Changes\u001b[22m\u001b[39m to `~/.julia/environments/v1.8/Manifest.toml`\n"
     ]
    }
   ],
   "source": [
    "import Pkg; \n",
    "Pkg.add(\"GraphRecipes\"); Pkg.add(\"Plots\"); \n",
    "using GraphRecipes, Plots #only used to visualize the search tree at the end of the branch-and-bound"
   ]
  },
  {
   "cell_type": "markdown",
   "metadata": {},
   "source": [
    "### Récupération des données"
   ]
  },
  {
   "cell_type": "code",
   "execution_count": 2,
   "metadata": {},
   "outputs": [
    {
     "data": {
      "text/plain": [
       "readKnaptxtInstance (generic function with 1 method)"
      ]
     },
     "metadata": {},
     "output_type": "display_data"
    }
   ],
   "source": [
    "function readKnaptxtInstance(filename)\n",
    "    price=Int64[]\n",
    "    weight=Int64[]\n",
    "    KnapCap=Int64[]\n",
    "    open(filename) do f\n",
    "        for i in 1:3\n",
    "            tok = split(readline(f))\n",
    "            if(tok[1] == \"ListPrices=\")\n",
    "                for i in 2:(length(tok)-1)\n",
    "                    push!(price,parse(Int64, tok[i]))\n",
    "                end\n",
    "            elseif(tok[1] == \"ListWeights=\")\n",
    "                for i in 2:(length(tok)-1)\n",
    "                    push!(weight,parse(Int64, tok[i]))\n",
    "                end\n",
    "            elseif(tok[1] == \"Capacity=\")\n",
    "                push!(KnapCap, parse(Int64, tok[2]))\n",
    "            else\n",
    "                println(\"Unknown read :\", tok)\n",
    "            end\n",
    "        end\n",
    "    end\n",
    "    capacity=KnapCap[1]\n",
    "    return price, weight, capacity\n",
    "end"
   ]
  },
  {
   "cell_type": "markdown",
   "metadata": {},
   "source": [
    "### Tests de sondabilités TA, TO et TR basés sur le modèle linéaire"
   ]
  },
  {
   "cell_type": "code",
   "execution_count": 9,
   "metadata": {},
   "outputs": [
    {
     "data": {
      "text/plain": [
       "testSondability_LP (generic function with 1 method)"
      ]
     },
     "metadata": {},
     "output_type": "display_data"
    }
   ],
   "source": [
    "function testSondability_LP(model2, x, BestProfit, Bestsol)\n",
    "    TA, TO, TR = false, false, false\n",
    "    if(termination_status(model2) == MOI.INFEASIBLE) #Test de faisabilite\n",
    "        TA=true\n",
    "        println(\"TA\")\n",
    "    elseif(objective_value(model2) <= BestProfit) #Test d'optimalite\n",
    "        TO=true\n",
    "        println(\"TO\")\n",
    "    elseif( prod(abs.([round.(v, digits=0) for v in value.(x)]-value.(x)) .<= fill(10^-5, size(x)))\n",
    "        ) #Test de resolution\n",
    "        TR=true\n",
    "        println(\"TR\")\n",
    "        #if (value(benef) >= BestProfit)\n",
    "        if (objective_value(model2) >= BestProfit)\n",
    "            Bestsol = value.(x)\n",
    "            #BestProfit=value(benef)\n",
    "            BestProfit=objective_value(model2)\n",
    "            println(\"\\nNew Solution memorized \", Bestsol, \" with bestprofit \", BestProfit, \"\\n\")\n",
    "        end\n",
    "    else\n",
    "        println(\"non sondable\")\n",
    "    end\n",
    "    TA, TO, TR, Bestsol, BestProfit\n",
    "end"
   ]
  },
  {
   "cell_type": "markdown",
   "metadata": {},
   "source": [
    "## Procédure de séparation (branching) et stratégie d'exploration permettant de se placer au prochain noeud à traiter"
   ]
  },
  {
   "cell_type": "markdown",
   "metadata": {},
   "source": [
    "### Question préliminaire \n",
    "\n",
    "1. La règle de séparation est de décider sur le premier objet indéterminé\n",
    "\n",
    "2. Elle est calculée à travers la fonction objective_value\n",
    "\n",
    "3.  TA : \"termination_status(model2) == MOI.INFEASIBLE\"\n",
    "\n",
    "    TO : \"objective_value(model2) <= BestProfit\" : Le test d'optimalité passe si la borne supérieur trouvée à partir d'un noeud est plus petite que la plus grande gardée en mémoire\n",
    "    \n",
    "    TR : \"prod(abs.([round.(v, digits=0) for v in value.(x)]-value.(x)) .<= fill(10^-5, size(x)))\" : Le test de résolution passe si toutes les quantités des objets pris sont entières (?)\n",
    "\n",
    "4. La stratégie d'exploration est d'explorer le noeud à gauche en premier des deux sous-noeuds crées"
   ]
  },
  {
   "cell_type": "code",
   "execution_count": 10,
   "metadata": {},
   "outputs": [
    {
     "data": {
      "text/plain": [
       "exploreNextNode_depthfirst! (generic function with 1 method)"
      ]
     },
     "metadata": {},
     "output_type": "display_data"
    }
   ],
   "source": [
    "function separateNodeThenchooseNext_lexicographic_depthfirst!(listobjs, listvals, n)\n",
    "    # this node is non-sondable. Apply the branching criterion to separate it into two subnodes\n",
    "    # and choose the child-node at the left\n",
    "\n",
    "    # lexicographic branching criterion: branch on the 1st object not yet fixed\n",
    "    i, obj = 1, 0\n",
    "    while((i <= n) && (obj==0))\n",
    "        if(!(i in listobjs))\n",
    "            obj=i\n",
    "        end\n",
    "        i+=1\n",
    "    end\n",
    "\n",
    "    println(\"\\nbranch on object \", obj, \"\\n\")\n",
    "\n",
    "    # depthfirst exploration strategy: the node selected will be the most left of the child-nodes just created\n",
    "    push!(listobjs,obj) #save the identity of the object selected for branching\n",
    "    push!(listvals,1.0) #save the node selected, identified by the value assigned to the variable/object chosen\n",
    "end\n",
    "\n",
    "\n",
    "function exploreNextNode_depthfirst!(listobjs, listvals, listnodes)\n",
    "    #this node is sondable, go back to parent node then right child if possible\n",
    "\n",
    "    stop=false\n",
    "    #check if we are not at the root node\n",
    "    if (length(listobjs)>= 1)\n",
    "        #go back to parent node\n",
    "        obj=pop!(listobjs)\n",
    "        theval=pop!(listvals)\n",
    "        tmp=pop!(listnodes)\n",
    "\n",
    "        #go to right child if possible, otherwise go back to parent\n",
    "        while( (theval==0.0) && (length(listobjs)>= 1))\n",
    "            obj=pop!(listobjs)\n",
    "            theval=pop!(listvals)\n",
    "            tmp=pop!(listnodes)\n",
    "        end\n",
    "        if theval==1.0\n",
    "            push!(listobjs,obj)\n",
    "            push!(listvals,0.0)\n",
    "        else\n",
    "            println(\"\\nFINISHED\")\n",
    "            stop=true\n",
    "        end\n",
    "    else\n",
    "        #the root node was sondable\n",
    "        println(\"\\nFINISHED\")\n",
    "        stop=true\n",
    "    end\n",
    "    return stop\n",
    "end"
   ]
  },
  {
   "cell_type": "markdown",
   "metadata": {},
   "source": [
    "###  Création de la relaxation linéaire (= modèle associé au noeud 0): <span style=\"color:red\"> SECTION A SUPPRIMER !!!! </span>\n",
    "\n",
    "<span style=\"color:red\"> Cette section est à commenter/supprimer et remplacer par vos propres calculs de bornes supérieures et autres, par exemple basées sur les bornes 1 et 2 vues en cours, ou d'autres calculs de bornes de votre choix/conception validés au préalable par votre encadrant/e de TP </span>"
   ]
  },
  {
   "cell_type": "code",
   "execution_count": 11,
   "metadata": {},
   "outputs": [
    {
     "name": "stderr",
     "output_type": "stream",
     "text": [
      "\u001b[32m\u001b[1m   Resolving\u001b[22m\u001b[39m package versions...\n"
     ]
    },
    {
     "name": "stderr",
     "output_type": "stream",
     "text": [
      "\u001b[32m\u001b[1m  No Changes\u001b[22m\u001b[39m to `~/.julia/environments/v1.8/Project.toml`\n",
      "\u001b[32m\u001b[1m  No Changes\u001b[22m\u001b[39m to `~/.julia/environments/v1.8/Manifest.toml`\n"
     ]
    },
    {
     "name": "stderr",
     "output_type": "stream",
     "text": [
      "\u001b[32m\u001b[1m   Resolving\u001b[22m\u001b[39m package versions...\n"
     ]
    },
    {
     "name": "stderr",
     "output_type": "stream",
     "text": [
      "\u001b[32m\u001b[1m  No Changes\u001b[22m\u001b[39m to `~/.julia/environments/v1.8/Project.toml`\n",
      "\u001b[32m\u001b[1m  No Changes\u001b[22m\u001b[39m to `~/.julia/environments/v1.8/Manifest.toml`\n"
     ]
    },
    {
     "data": {
      "text/plain": [
       "createModel_LP (generic function with 1 method)"
      ]
     },
     "metadata": {},
     "output_type": "display_data"
    }
   ],
   "source": [
    "Pkg.add(\"Clp\");\n",
    "Pkg.add(\"JuMP\");\n",
    "using JuMP, Clp #to comment for the lab class\n",
    "\n",
    "function updateModele_LP!(model2, x, listobjs, listvals)\n",
    "    for i in 1:length(listobjs)\n",
    "        set_lower_bound(x[listobjs[i]],listvals[i])\n",
    "        set_upper_bound(x[listobjs[i]],listvals[i])\n",
    "    end\n",
    "end\n",
    "\n",
    "function reset_LP!(model2, x, listobjs)\n",
    "    for i in 1:length(listobjs)\n",
    "        set_lower_bound(x[listobjs[i]],0.0)\n",
    "        set_upper_bound(x[listobjs[i]],1.0)\n",
    "    end\n",
    "end\n",
    "\n",
    "function resetAll_LP!(model2, x)\n",
    "    for i in 1:length(x)\n",
    "        set_lower_bound(x[i],0.0)\n",
    "        set_upper_bound(x[i],1.0)\n",
    "    end\n",
    "end\n",
    "\n",
    "function createModel_LP(price, weight, capacity)\n",
    "# ROOT NODE\n",
    "\n",
    "    n=length(price)\n",
    "\n",
    "    model2 = Model(Clp.Optimizer) # set optimizer\n",
    "    set_optimizer_attribute(model2, \"LogLevel\", 0) #don't display anything during solve\n",
    "    set_optimizer_attribute(model2, \"Algorithm\", 4) #LP solver chosen is simplex\n",
    "\n",
    "    # define x variables as CONTINUOUS (recall that it is not possible to define binary variables in Clp)\n",
    "    @variable(model2, 0 <= x[i in 1:n] <= 1)\n",
    "\n",
    "    # define objective function\n",
    "    @objective(model2, Max, sum(price[i]*x[i] for i in 1:n))\n",
    "\n",
    "    # define the capacity constraint\n",
    "    @constraint(model2, sum(weight[i]*x[i] for i in 1:n) <=  capacity)\n",
    "\n",
    "    println(model2)\n",
    "\n",
    "    return model2, x\n",
    "end"
   ]
  },
  {
   "cell_type": "code",
   "execution_count": 46,
   "metadata": {},
   "outputs": [
    {
     "data": {
      "text/plain": [
       "computeBS2 (generic function with 1 method)"
      ]
     },
     "metadata": {},
     "output_type": "display_data"
    }
   ],
   "source": [
    "function createRatioList(value, weight)\n",
    "    ratioList = value ./ weight\n",
    "    return ratioList\n",
    "end\n",
    "\n",
    "function computeBS1(ratioList, value, weigth, capacity)\n",
    "    indiceSort = sortperm(ratioList, rev = true)\n",
    "    indiceMax = indiceSort[1]\n",
    "    quantityTaken = capacity / weight[indiceMax]\n",
    "    objectTaken = zeros(length(value))\n",
    "    objectTaken[indiceMax] = capacity / weight[indiceMax]\n",
    "    return quantityTaken * value[indiceMax], objectTaken\n",
    "end\n",
    "\n",
    "function computeBS2(ratioList, value, weight, capacity)\n",
    "    indiceSort = sortperm(ratioList, rev = true)\n",
    "    BS = 0\n",
    "    bagWeight = 0\n",
    "    i = 1\n",
    "    objectTaken = zeros(length(value))\n",
    "    while bagWeight < capacity\n",
    "        if bagWeight + weight[indiceSort[i]] <= capacity \n",
    "            bagWeight = bagWeight + weight[indiceSort[i]]\n",
    "            BS = BS + value[indiceSort[i]]\n",
    "            objectTaken[indiceSort[i]] = 1.0\n",
    "        else\n",
    "            capaciteRestante = ((capacity - bagWeight) / weight[indiceSort[i]])\n",
    "            BS = BS + capaciteRestante * value[indiceSort[i]]\n",
    "            bagWeight = capacity\n",
    "            objectTaken[indiceSort[i]] = capaciteRestante \n",
    "        end\n",
    "        i = i + 1\n",
    "    end\n",
    "    return BS, objectTaken\n",
    "end"
   ]
  },
  {
   "cell_type": "code",
   "execution_count": 47,
   "metadata": {},
   "outputs": [
    {
     "data": {
      "text/plain": [
       "(76.0, [0.8571428571428571, 1.0, 0.0, 0.0])"
      ]
     },
     "metadata": {},
     "output_type": "display_data"
    }
   ],
   "source": [
    "price, weight, capacity = readKnaptxtInstance(\"donnees.txt\")\n",
    "ratioList = createRatioList(price, weight)\n",
    "computeBS1(ratioList, price, weight, capacity)\n",
    "computeBS2(ratioList, price, weight, capacity)"
   ]
  },
  {
   "cell_type": "markdown",
   "metadata": {},
   "source": [
    "### Boucle principale : résoudre une relaxation, appliquer les tests de sondabilité, identifier le prochain noeud, répéter."
   ]
  },
  {
   "cell_type": "code",
   "execution_count": 12,
   "metadata": {},
   "outputs": [
    {
     "data": {
      "text/plain": [
       "solveKnapInstance (generic function with 1 method)"
      ]
     },
     "metadata": {},
     "output_type": "display_data"
    }
   ],
   "source": [
    "function solveKnapInstance(filename)\n",
    "\n",
    "    price, weight, capacity = readKnaptxtInstance(filename)\n",
    "\n",
    "    model2, x = createModel_LP(price, weight, capacity)\n",
    "\n",
    "    #create the structure to memorize the search tree for visualization at the end\n",
    "    trParentnodes=Int64[] #will store orig node of arc in search tree\n",
    "    trChildnodes=Int64[] #will store destination node of arc in search tree\n",
    "    trNamenodes=[] #will store names of nodes in search tree\n",
    "\n",
    "    #intermediate structure to navigate in the search tree\n",
    "    listobjs=Int64[]\n",
    "    listvals=Float64[]\n",
    "    listnodes=Int64[]\n",
    "\n",
    "    BestProfit::Float64=-1.0\n",
    "    Bestsol=Float64[]\n",
    "\n",
    "    current_node_number::Int64=0\n",
    "    stop = false\n",
    "\n",
    "    while(!stop)\n",
    "\n",
    "        println(\"\\nNode number \", current_node_number, \": \\n---------------\\n\")\n",
    "\n",
    "        #Update the graphical tree\n",
    "        push!(trNamenodes,current_node_number+1) \n",
    "        if(length(trNamenodes)>=2)\n",
    "            push!(trParentnodes,listnodes[end]+1) # +1 because the 1st node is \"node 0\"\n",
    "            push!(trChildnodes, current_node_number+1) # +1 because the 1st node is \"node 0\"\n",
    "        end\n",
    "        push!(listnodes, current_node_number)\n",
    "\n",
    "        \n",
    "        #create LP of current node\n",
    "        updateModele_LP!(model2, x, listobjs, listvals)\n",
    "        \n",
    "        println(model2)\n",
    "        \n",
    "        print(\"Solve the LP model of the current node to compute its bound: start ... \")\n",
    "\n",
    "        status = optimize!(model2)\n",
    "\n",
    "        println(\"... end\"); \n",
    "\n",
    "        print(\": Solution LP\")\n",
    "        if(termination_status(model2) == MOI.INFEASIBLE)#(has_values(model2))\n",
    "            print(\" : NOT AVAILABLE (probably infeasible or ressources limit reached)\")\n",
    "        else\n",
    "            print(\" \", objective_value(model2))\n",
    "            [print(\"\\t\", name(v),\"=\",value(v)) for v in all_variables(model2)] \n",
    "        end\n",
    "        println(\" \"); \n",
    "\n",
    "\n",
    "        println(\"\\nPrevious Solution memorized \", Bestsol, \" with bestprofit \", BestProfit, \"\\n\")\n",
    "\n",
    "        TA, TO, TR, Bestsol, BestProfit = testSondability_LP(model2, x, BestProfit, Bestsol)\n",
    "\n",
    "        is_node_sondable = TA || TO || TR\n",
    "\n",
    "        #Reset_LP!(model2, x, listobjs)\n",
    "\n",
    "        if(!is_node_sondable)\n",
    "            separateNodeThenchooseNext_lexicographic_depthfirst!(listobjs, listvals, length(price))\n",
    "        else\n",
    "            stop = exploreNextNode_depthfirst!(listobjs, listvals, listnodes)\n",
    "        end\n",
    "        \n",
    "        resetAll_LP!(model2, x)\n",
    "\n",
    "        current_node_number = current_node_number + 1\n",
    "    end\n",
    "\n",
    "    println(\"\\n******\\n\\nOptimal value = \", BestProfit, \"\\n\\nOptimal x=\", Bestsol)\n",
    "\n",
    "    return BestProfit, Bestsol, trParentnodes, trChildnodes, trNamenodes\n",
    "\n",
    "end\n"
   ]
  },
  {
   "cell_type": "markdown",
   "metadata": {},
   "source": [
    "### Affichage du résultat final"
   ]
  },
  {
   "cell_type": "code",
   "execution_count": 13,
   "metadata": {},
   "outputs": [
    {
     "data": {
      "text/plain": [
       "solveNdisplayKnap (generic function with 1 method)"
      ]
     },
     "metadata": {},
     "output_type": "display_data"
    }
   ],
   "source": [
    "function solveNdisplayKnap(filename)\n",
    "\n",
    "    println(\"\\n Branch-and-Bound for solving a knapsack problem. \\n\\n Solving instance '\" * filename * \"'\\n\")\n",
    "\n",
    "    BestProfit, Bestsol, trParentnodes, trChildnodes, trNamenodes = solveKnapInstance(filename)\n",
    "\n",
    "    println(\"\\n******\\n\\nOptimal value = \", BestProfit, \"\\n\\nOptimal x=\", Bestsol)\n",
    "\n",
    "    println(\"\\n Branch-and-bound tree visualization : start display ...\")\n",
    "    display(graphplot(trParentnodes, trChildnodes, names=trNamenodes, method=:tree))\n",
    "    println(\"... end display. \\n\\n\")\n",
    "\n",
    "end"
   ]
  },
  {
   "cell_type": "code",
   "execution_count": 14,
   "metadata": {},
   "outputs": [
    {
     "name": "stdout",
     "output_type": "stream",
     "text": [
      "\n",
      " Branch-and-Bound for solving a knapsack problem. \n",
      "\n",
      " Solving instance 'InstancesKnapSack/test.opb.txt'\n",
      "\n"
     ]
    },
    {
     "name": "stdout",
     "output_type": "stream",
     "text": [
      "Max 42 x[1] + 40 x[2] + 12 x[3] + 25 x[4]\n",
      "Subject to\n",
      " "
     ]
    },
    {
     "name": "stdout",
     "output_type": "stream",
     "text": [
      "7 x[1] + 4 x[2] + 3 x[3] + 5 x[4] ≤ 10\n",
      " x[1] ≥ 0\n",
      " x[2] ≥ 0\n",
      " x[3] ≥ 0\n",
      " x[4] ≥ 0\n",
      " x[1] ≤ 1\n",
      " x[2] ≤ 1\n",
      " x[3] ≤ 1\n",
      " x[4] ≤ 1\n",
      "\n",
      "\n",
      "Node number 0: \n",
      "---------------\n",
      "\n",
      "Max 42 x[1] + 40 x[2] + 12 x[3] + 25 x[4]\n",
      "Subject to\n",
      " 7 x[1] + 4 x[2] + 3 x[3] + 5 x[4] ≤ 10\n",
      " x[1] ≥ 0\n",
      " x[2] ≥ 0\n",
      " x[3] ≥ 0\n",
      " x[4] ≥ 0\n",
      " x[1] ≤ 1\n",
      " x[2] ≤ 1\n",
      " x[3] ≤ 1\n",
      " x[4] ≤ 1\n",
      "\n",
      "Solve the LP model of the current node to compute its bound: start ... ... end"
     ]
    },
    {
     "name": "stdout",
     "output_type": "stream",
     "text": [
      "\n",
      ": Solution LP"
     ]
    },
    {
     "name": "stdout",
     "output_type": "stream",
     "text": [
      " 76.0"
     ]
    },
    {
     "name": "stdout",
     "output_type": "stream",
     "text": [
      "\tx[1]=0.857142857142857\tx[2]=1.0\tx[3]=0.0\tx[4]=0.0 \n",
      "\n",
      "Previous Solution memorized Float64"
     ]
    },
    {
     "name": "stdout",
     "output_type": "stream",
     "text": [
      "[] with bestprofit -1.0\n",
      "\n",
      "non sondable\n",
      "\n",
      "branch on object 1\n",
      "\n"
     ]
    },
    {
     "data": {
      "image/png": "[encoded data removed]",
      "image/svg+xml": [
       "<?xml version=\"1.0\" encoding=\"utf-8\"?>\n",
       "<svg xmlns=\"http://www.w3.org/2000/svg\" xmlns:xlink=\"http://www.w3.org/1999/xlink\" width=\"600\" height=\"400\" viewBox=\"0 0 2400 1600\">\n",
       "<defs>\n",
       "  <clipPath id=\"clip330\">\n",
       "    <rect x=\"0\" y=\"0\" width=\"2400\" height=\"1600\"/>\n",
       "  </clipPath>\n",
       "</defs>\n",
       "<path clip-path=\"url(#clip330)\" d=\"M0 1600 L2400 1600 L2400 0 L0 0  Z\" fill=\"#ffffff\" fill-rule=\"evenodd\" fill-opacity=\"1\"/>\n",
       "<defs>\n",
       "  <clipPath id=\"clip331\">\n",
       "    <rect x=\"480\" y=\"0\" width=\"1681\" height=\"1600\"/>\n",
       "  </clipPath>\n",
       "</defs>\n",
       "<path clip-path=\"url(#clip330)\" d=\"M447.244 1552.76 L1952.76 1552.76 L1952.76 47.2441 L447.244 47.2441  Z\" fill=\"#ffffff\" fill-rule=\"evenodd\" fill-opacity=\"1\"/>\n",
       "<defs>\n",
       "  <clipPath id=\"clip332\">\n",
       "    <rect x=\"447\" y=\"47\" width=\"1507\" height=\"1507\"/>\n",
       "  </clipPath>\n",
       "</defs>\n",
       "<polyline clip-path=\"url(#clip332)\" style=\"stroke:#000000; stroke-linecap:round; stroke-linejoin:round; stroke-width:4; stroke-opacity:1; fill:none\" points=\"1214.47,262.317 1215.13,271.59 1217.03,280.631 1220.09,289.457 1224.2,298.084 1229.29,306.532 1235.26,314.815 1242.01,322.952 1249.45,330.961 1257.5,338.857 1266.05,346.659 1275.02,354.383 1284.31,362.047 1293.83,369.668 1303.49,377.263 1313.2,384.85 1322.86,392.445 1332.38,400.066 1341.67,407.73 1350.64,415.455 1359.19,423.256 1367.24,431.153 1374.68,439.161 1381.43,447.298 1387.4,455.582 1392.49,464.029 1396.6,472.657 1399.66,481.482 1401.56,490.523 1402.22,499.796 \"/>\n",
       "<polyline clip-path=\"url(#clip332)\" style=\"stroke:#000000; stroke-linecap:round; stroke-linejoin:round; stroke-width:4; stroke-opacity:1; fill:none\" points=\"1402.22,499.796 1402.1,508.819 1401.75,518.019 1401.19,527.384 1400.45,536.9 1399.52,546.554 1398.43,556.333 1397.2,566.224 1395.85,576.214 1394.38,586.289 1392.83,596.436 1391.19,606.643 1389.5,616.895 1387.77,627.181 1386.01,637.486 1384.24,647.798 1382.48,658.103 1380.75,668.389 1379.06,678.642 1377.43,688.848 1375.87,698.996 1374.41,709.071 1373.05,719.06 1371.82,728.951 1370.74,738.73 1369.81,748.384 1369.06,757.9 1368.5,767.265 1368.16,776.466 1368.04,785.488 \"/>\n",
       "<polyline clip-path=\"url(#clip332)\" style=\"stroke:#000000; stroke-linecap:round; stroke-linejoin:round; stroke-width:4; stroke-opacity:1; fill:none\" points=\"1402.22,499.796 1402.73,510.581 1404.21,521.381 1406.6,532.194 1409.82,543.02 1413.79,553.858 1418.45,564.706 1423.73,575.563 1429.54,586.428 1435.83,597.301 1442.51,608.18 1449.52,619.063 1456.78,629.951 1464.22,640.841 1471.76,651.733 1479.35,662.625 1486.9,673.517 1494.34,684.407 1501.59,695.295 1508.6,706.178 1515.28,717.057 1521.57,727.929 1527.38,738.795 1532.66,749.652 1537.32,760.5 1541.29,771.338 1544.51,782.164 1546.9,792.977 1548.38,803.777 1548.9,814.562 \"/>\n",
       "<polyline clip-path=\"url(#clip332)\" style=\"stroke:#000000; stroke-linecap:round; stroke-linejoin:round; stroke-width:4; stroke-opacity:1; fill:none\" points=\"1548.9,814.562 1549.37,823.409 1550.74,832.22 1552.94,840.997 1555.9,849.743 1559.57,858.461 1563.86,867.154 1568.73,875.824 1574.09,884.473 1579.88,893.105 1586.04,901.723 1592.5,910.328 1599.19,918.924 1606.05,927.513 1613.01,936.098 1620,944.682 1626.96,953.267 1633.82,961.857 1640.51,970.453 1646.97,979.058 1653.13,987.675 1658.92,996.308 1664.28,1004.96 1669.14,1013.63 1673.44,1022.32 1677.1,1031.04 1680.07,1039.78 1682.27,1048.56 1683.64,1057.37 1684.11,1066.22 \"/>\n",
       "<polyline clip-path=\"url(#clip332)\" style=\"stroke:#000000; stroke-linecap:round; stroke-linejoin:round; stroke-width:4; stroke-opacity:1; fill:none\" points=\"1548.9,814.562 1549.03,824.192 1549.42,834.01 1550.05,844.002 1550.9,854.154 1551.95,864.451 1553.18,874.881 1554.58,885.429 1556.11,896.082 1557.77,906.824 1559.53,917.643 1561.38,928.525 1563.3,939.456 1565.27,950.421 1567.26,961.407 1569.26,972.4 1571.25,983.386 1573.22,994.351 1575.13,1005.28 1576.98,1016.16 1578.75,1026.98 1580.41,1037.73 1581.94,1048.38 1583.34,1058.93 1584.57,1069.36 1585.62,1079.65 1586.47,1089.8 1587.1,1099.8 1587.49,1109.61 1587.62,1119.24 \"/>\n",
       "<polyline clip-path=\"url(#clip332)\" style=\"stroke:#000000; stroke-linecap:round; stroke-linejoin:round; stroke-width:4; stroke-opacity:1; fill:none\" points=\"1587.62,1119.24 1588.15,1126.79 1589.67,1134.16 1592.11,1141.37 1595.4,1148.43 1599.47,1155.36 1604.24,1162.16 1609.63,1168.85 1615.58,1175.44 1622.01,1181.94 1628.85,1188.38 1636.01,1194.76 1643.44,1201.09 1651.05,1207.39 1658.77,1213.67 1666.53,1219.94 1674.25,1226.22 1681.87,1232.52 1689.29,1238.85 1696.46,1245.23 1703.3,1251.67 1709.72,1258.17 1715.67,1264.77 1721.07,1271.46 1725.84,1278.26 1729.91,1285.18 1733.2,1292.24 1735.64,1299.45 1737.16,1306.82 1737.68,1314.37 \"/>\n",
       "<polyline clip-path=\"url(#clip332)\" style=\"stroke:#000000; stroke-linecap:round; stroke-linejoin:round; stroke-width:4; stroke-opacity:1; fill:none\" points=\"1587.62,1119.24 1587.38,1125.53 1586.67,1131.86 1585.53,1138.24 1583.99,1144.67 1582.1,1151.13 1579.87,1157.63 1577.35,1164.16 1574.58,1170.71 1571.57,1177.3 1568.38,1183.9 1565.04,1190.52 1561.57,1197.15 1558.02,1203.79 1554.42,1210.44 1550.8,1217.09 1547.19,1223.74 1543.64,1230.38 1540.18,1237.01 1536.83,1243.63 1533.64,1250.24 1530.64,1256.82 1527.86,1263.38 1525.34,1269.91 1523.12,1276.41 1521.22,1282.87 1519.68,1289.29 1518.54,1295.67 1517.84,1302 1517.59,1308.29 \"/>\n",
       "<polyline clip-path=\"url(#clip332)\" style=\"stroke:#000000; stroke-linecap:round; stroke-linejoin:round; stroke-width:4; stroke-opacity:1; fill:none\" points=\"1214.47,262.317 1213.94,274.931 1212.37,287.611 1209.86,300.354 1206.48,313.153 1202.3,326.004 1197.4,338.902 1191.86,351.843 1185.75,364.82 1179.14,377.83 1172.12,390.867 1164.75,403.926 1157.12,417.002 1149.3,430.091 1141.37,443.188 1133.4,456.286 1125.46,469.383 1117.64,482.472 1110.01,495.548 1102.65,508.607 1095.63,521.644 1089.02,534.654 1082.91,547.631 1077.36,560.572 1072.46,573.47 1068.28,586.321 1064.9,599.12 1062.39,611.863 1060.83,624.543 1060.29,637.157 \"/>\n",
       "<polyline clip-path=\"url(#clip332)\" style=\"stroke:#000000; stroke-linecap:round; stroke-linejoin:round; stroke-width:4; stroke-opacity:1; fill:none\" points=\"1060.29,637.157 1059.68,643.825 1057.88,650.058 1055,655.886 1051.12,661.344 1046.32,666.462 1040.7,671.273 1034.33,675.81 1027.32,680.105 1019.73,684.19 1011.67,688.097 1003.21,691.859 994.452,695.508 985.474,699.076 976.366,702.596 967.214,706.099 958.105,709.619 949.127,713.187 940.367,716.836 931.912,720.598 923.849,724.505 916.264,728.59 909.246,732.885 902.881,737.422 897.256,742.233 892.459,747.352 888.576,752.809 885.694,758.638 883.902,764.87 883.285,771.539 \"/>\n",
       "<polyline clip-path=\"url(#clip332)\" style=\"stroke:#000000; stroke-linecap:round; stroke-linejoin:round; stroke-width:4; stroke-opacity:1; fill:none\" points=\"883.285,771.539 883.121,782.603 882.643,793.881 881.876,805.357 880.843,817.014 879.565,828.838 878.068,840.811 876.373,852.919 874.505,865.146 872.486,877.475 870.339,889.892 868.088,902.379 865.756,914.922 863.366,927.504 860.941,940.11 858.504,952.724 856.079,965.33 853.689,977.913 851.357,990.455 849.106,1002.94 846.959,1015.36 844.94,1027.69 843.072,1039.92 841.377,1052.02 839.88,1064 838.603,1075.82 837.569,1087.48 836.802,1098.95 836.324,1110.23 836.16,1121.3 \"/>\n",
       "<polyline clip-path=\"url(#clip332)\" style=\"stroke:#000000; stroke-linecap:round; stroke-linejoin:round; stroke-width:4; stroke-opacity:1; fill:none\" points=\"836.16,1121.3 835.554,1127.91 833.794,1134.11 830.964,1139.92 827.15,1145.37 822.439,1150.5 816.915,1155.34 810.664,1159.91 803.771,1164.25 796.322,1168.38 788.403,1172.35 780.099,1176.18 771.496,1179.89 762.678,1183.54 753.733,1187.13 744.745,1190.71 735.799,1194.3 726.982,1197.94 718.378,1201.66 710.074,1205.49 702.155,1209.46 694.707,1213.59 687.814,1217.93 681.563,1222.5 676.038,1227.34 671.327,1232.47 667.513,1237.92 664.684,1243.73 662.923,1249.93 662.317,1256.54 \"/>\n",
       "<polyline clip-path=\"url(#clip332)\" style=\"stroke:#000000; stroke-linecap:round; stroke-linejoin:round; stroke-width:4; stroke-opacity:1; fill:none\" points=\"836.16,1121.3 836.218,1128.1 836.386,1135.05 836.656,1142.13 837.02,1149.33 837.469,1156.63 837.996,1164.04 838.593,1171.53 839.25,1179.1 839.961,1186.74 840.717,1194.44 841.509,1202.18 842.33,1209.95 843.171,1217.76 844.024,1225.58 844.882,1233.4 845.735,1241.22 846.577,1249.02 847.397,1256.8 848.19,1264.54 848.945,1272.24 849.656,1279.88 850.314,1287.45 850.91,1294.94 851.437,1302.34 851.886,1309.65 852.25,1316.85 852.52,1323.93 852.688,1330.87 852.746,1337.68 \"/>\n",
       "<polyline clip-path=\"url(#clip332)\" style=\"stroke:#000000; stroke-linecap:round; stroke-linejoin:round; stroke-width:4; stroke-opacity:1; fill:none\" points=\"883.285,771.539 882.868,780.017 881.655,788.493 879.707,796.967 877.081,805.439 873.836,813.91 870.032,822.38 865.728,830.848 860.981,839.315 855.852,847.781 850.399,856.246 844.68,864.711 838.756,873.175 832.684,881.639 826.524,890.102 820.334,898.566 814.174,907.029 808.103,915.493 802.178,923.957 796.46,932.422 791.007,940.887 785.877,949.353 781.131,957.821 776.826,966.289 773.022,974.758 769.778,983.229 767.152,991.702 765.203,1000.18 763.991,1008.65 763.574,1017.13 \"/>\n",
       "<polyline clip-path=\"url(#clip332)\" style=\"stroke:#000000; stroke-linecap:round; stroke-linejoin:round; stroke-width:4; stroke-opacity:1; fill:none\" points=\"1060.29,637.157 1060.43,644.894 1060.82,652.775 1061.45,660.788 1062.31,668.924 1063.36,677.172 1064.59,685.521 1065.99,693.96 1067.53,702.479 1069.19,711.067 1070.96,719.714 1072.81,728.408 1074.73,737.14 1076.7,745.898 1078.7,754.672 1080.7,763.452 1082.7,772.226 1084.67,780.984 1086.59,789.716 1088.44,798.41 1090.21,807.057 1091.87,815.645 1093.41,824.164 1094.81,832.603 1096.04,840.952 1097.09,849.2 1097.95,857.336 1098.58,865.349 1098.97,873.23 1099.11,880.967 \"/>\n",
       "<path clip-path=\"url(#clip332)\" d=\"M1229.53 262.317 L1222 249.279 L1206.95 249.279 L1199.42 262.317 L1206.95 275.355 L1222 275.355 L1229.53 262.317 L1229.53 262.317  Z\" fill=\"#009af9\" fill-rule=\"evenodd\" fill-opacity=\"1\"/>\n",
       "<polyline clip-path=\"url(#clip332)\" style=\"stroke:#000000; stroke-linecap:round; stroke-linejoin:round; stroke-width:4; stroke-opacity:1; fill:none\" points=\"1229.53,262.317 1222,249.279 1206.95,249.279 1199.42,262.317 1206.95,275.355 1222,275.355 1229.53,262.317 \"/>\n",
       "<path clip-path=\"url(#clip332)\" d=\"M1417.27 499.796 L1409.74 486.758 L1394.69 486.758 L1387.16 499.796 L1394.69 512.834 L1409.74 512.834 L1417.27 499.796 L1417.27 499.796  Z\" fill=\"#009af9\" fill-rule=\"evenodd\" fill-opacity=\"1\"/>\n",
       "<polyline clip-path=\"url(#clip332)\" style=\"stroke:#000000; stroke-linecap:round; stroke-linejoin:round; stroke-width:4; stroke-opacity:1; fill:none\" points=\"1417.27,499.796 1409.74,486.758 1394.69,486.758 1387.16,499.796 1394.69,512.834 1409.74,512.834 1417.27,499.796 \"/>\n",
       "<path clip-path=\"url(#clip332)\" d=\"M1383.09 785.488 L1375.56 772.45 L1360.51 772.45 L1352.98 785.488 L1360.51 798.526 L1375.56 798.526 L1383.09 785.488 L1383.09 785.488  Z\" fill=\"#009af9\" fill-rule=\"evenodd\" fill-opacity=\"1\"/>\n",
       "<polyline clip-path=\"url(#clip332)\" style=\"stroke:#000000; stroke-linecap:round; stroke-linejoin:round; stroke-width:4; stroke-opacity:1; fill:none\" points=\"1383.09,785.488 1375.56,772.45 1360.51,772.45 1352.98,785.488 1360.51,798.526 1375.56,798.526 1383.09,785.488 \"/>\n",
       "<path clip-path=\"url(#clip332)\" d=\"M1563.95 814.562 L1556.42 801.524 L1541.37 801.524 L1533.84 814.562 L1541.37 827.6 L1556.42 827.6 L1563.95 814.562 L1563.95 814.562  Z\" fill=\"#009af9\" fill-rule=\"evenodd\" fill-opacity=\"1\"/>\n",
       "<polyline clip-path=\"url(#clip332)\" style=\"stroke:#000000; stroke-linecap:round; stroke-linejoin:round; stroke-width:4; stroke-opacity:1; fill:none\" points=\"1563.95,814.562 1556.42,801.524 1541.37,801.524 1533.84,814.562 1541.37,827.6 1556.42,827.6 1563.95,814.562 \"/>\n",
       "<path clip-path=\"url(#clip332)\" d=\"M1699.17 1066.22 L1691.64 1053.18 L1676.59 1053.18 L1669.06 1066.22 L1676.59 1079.26 L1691.64 1079.26 L1699.17 1066.22 L1699.17 1066.22  Z\" fill=\"#009af9\" fill-rule=\"evenodd\" fill-opacity=\"1\"/>\n",
       "<polyline clip-path=\"url(#clip332)\" style=\"stroke:#000000; stroke-linecap:round; stroke-linejoin:round; stroke-width:4; stroke-opacity:1; fill:none\" points=\"1699.17,1066.22 1691.64,1053.18 1676.59,1053.18 1669.06,1066.22 1676.59,1079.26 1691.64,1079.26 1699.17,1066.22 \"/>\n",
       "<path clip-path=\"url(#clip332)\" d=\"M1602.68 1119.24 L1595.15 1106.21 L1580.1 1106.21 L1572.57 1119.24 L1580.1 1132.28 L1595.15 1132.28 L1602.68 1119.24 L1602.68 1119.24  Z\" fill=\"#009af9\" fill-rule=\"evenodd\" fill-opacity=\"1\"/>\n",
       "<polyline clip-path=\"url(#clip332)\" style=\"stroke:#000000; stroke-linecap:round; stroke-linejoin:round; stroke-width:4; stroke-opacity:1; fill:none\" points=\"1602.68,1119.24 1595.15,1106.21 1580.1,1106.21 1572.57,1119.24 1580.1,1132.28 1595.15,1132.28 1602.68,1119.24 \"/>\n",
       "<path clip-path=\"url(#clip332)\" d=\"M1752.74 1314.37 L1745.21 1301.33 L1730.16 1301.33 L1722.63 1314.37 L1730.16 1327.41 L1745.21 1327.41 L1752.74 1314.37 L1752.74 1314.37  Z\" fill=\"#009af9\" fill-rule=\"evenodd\" fill-opacity=\"1\"/>\n",
       "<polyline clip-path=\"url(#clip332)\" style=\"stroke:#000000; stroke-linecap:round; stroke-linejoin:round; stroke-width:4; stroke-opacity:1; fill:none\" points=\"1752.74,1314.37 1745.21,1301.33 1730.16,1301.33 1722.63,1314.37 1730.16,1327.41 1745.21,1327.41 1752.74,1314.37 \"/>\n",
       "<path clip-path=\"url(#clip332)\" d=\"M1532.65 1308.29 L1525.12 1295.25 L1510.06 1295.25 L1502.54 1308.29 L1510.06 1321.33 L1525.12 1321.33 L1532.65 1308.29 L1532.65 1308.29  Z\" fill=\"#009af9\" fill-rule=\"evenodd\" fill-opacity=\"1\"/>\n",
       "<polyline clip-path=\"url(#clip332)\" style=\"stroke:#000000; stroke-linecap:round; stroke-linejoin:round; stroke-width:4; stroke-opacity:1; fill:none\" points=\"1532.65,1308.29 1525.12,1295.25 1510.06,1295.25 1502.54,1308.29 1510.06,1321.33 1525.12,1321.33 1532.65,1308.29 \"/>\n",
       "<path clip-path=\"url(#clip332)\" d=\"M1075.35 637.157 L1067.82 624.119 L1052.77 624.119 L1045.24 637.157 L1052.77 650.195 L1067.82 650.195 L1075.35 637.157 L1075.35 637.157  Z\" fill=\"#009af9\" fill-rule=\"evenodd\" fill-opacity=\"1\"/>\n",
       "<polyline clip-path=\"url(#clip332)\" style=\"stroke:#000000; stroke-linecap:round; stroke-linejoin:round; stroke-width:4; stroke-opacity:1; fill:none\" points=\"1075.35,637.157 1067.82,624.119 1052.77,624.119 1045.24,637.157 1052.77,650.195 1067.82,650.195 1075.35,637.157 \"/>\n",
       "<path clip-path=\"url(#clip332)\" d=\"M909.497 771.539 L896.391 748.838 L870.179 748.838 L857.072 771.539 L870.179 794.239 L896.391 794.239 L909.497 771.539 L909.497 771.539  Z\" fill=\"#009af9\" fill-rule=\"evenodd\" fill-opacity=\"1\"/>\n",
       "<polyline clip-path=\"url(#clip332)\" style=\"stroke:#000000; stroke-linecap:round; stroke-linejoin:round; stroke-width:4; stroke-opacity:1; fill:none\" points=\"909.497,771.539 896.391,748.838 870.179,748.838 857.072,771.539 870.179,794.239 896.391,794.239 909.497,771.539 \"/>\n",
       "<path clip-path=\"url(#clip332)\" d=\"M862.373 1121.3 L849.266 1098.6 L823.054 1098.6 L809.948 1121.3 L823.054 1144 L849.266 1144 L862.373 1121.3 L862.373 1121.3  Z\" fill=\"#009af9\" fill-rule=\"evenodd\" fill-opacity=\"1\"/>\n",
       "<polyline clip-path=\"url(#clip332)\" style=\"stroke:#000000; stroke-linecap:round; stroke-linejoin:round; stroke-width:4; stroke-opacity:1; fill:none\" points=\"862.373,1121.3 849.266,1098.6 823.054,1098.6 809.948,1121.3 823.054,1144 849.266,1144 862.373,1121.3 \"/>\n",
       "<path clip-path=\"url(#clip332)\" d=\"M688.53 1256.54 L675.423 1233.84 L649.211 1233.84 L636.105 1256.54 L649.211 1279.24 L675.423 1279.24 L688.53 1256.54 L688.53 1256.54  Z\" fill=\"#009af9\" fill-rule=\"evenodd\" fill-opacity=\"1\"/>\n",
       "<polyline clip-path=\"url(#clip332)\" style=\"stroke:#000000; stroke-linecap:round; stroke-linejoin:round; stroke-width:4; stroke-opacity:1; fill:none\" points=\"688.53,1256.54 675.423,1233.84 649.211,1233.84 636.105,1256.54 649.211,1279.24 675.423,1279.24 688.53,1256.54 \"/>\n",
       "<path clip-path=\"url(#clip332)\" d=\"M878.959 1337.68 L865.852 1314.98 L839.64 1314.98 L826.534 1337.68 L839.64 1360.38 L865.852 1360.38 L878.959 1337.68 L878.959 1337.68  Z\" fill=\"#009af9\" fill-rule=\"evenodd\" fill-opacity=\"1\"/>\n",
       "<polyline clip-path=\"url(#clip332)\" style=\"stroke:#000000; stroke-linecap:round; stroke-linejoin:round; stroke-width:4; stroke-opacity:1; fill:none\" points=\"878.959,1337.68 865.852,1314.98 839.64,1314.98 826.534,1337.68 839.64,1360.38 865.852,1360.38 878.959,1337.68 \"/>\n",
       "<path clip-path=\"url(#clip332)\" d=\"M789.786 1017.13 L776.68 994.429 L750.467 994.429 L737.361 1017.13 L750.467 1039.83 L776.68 1039.83 L789.786 1017.13 L789.786 1017.13  Z\" fill=\"#009af9\" fill-rule=\"evenodd\" fill-opacity=\"1\"/>\n",
       "<polyline clip-path=\"url(#clip332)\" style=\"stroke:#000000; stroke-linecap:round; stroke-linejoin:round; stroke-width:4; stroke-opacity:1; fill:none\" points=\"789.786,1017.13 776.68,994.429 750.467,994.429 737.361,1017.13 750.467,1039.83 776.68,1039.83 789.786,1017.13 \"/>\n",
       "<path clip-path=\"url(#clip332)\" d=\"M1125.32 880.967 L1112.21 858.267 L1086 858.267 L1072.89 880.967 L1086 903.668 L1112.21 903.668 L1125.32 880.967 L1125.32 880.967  Z\" fill=\"#009af9\" fill-rule=\"evenodd\" fill-opacity=\"1\"/>\n",
       "<polyline clip-path=\"url(#clip332)\" style=\"stroke:#000000; stroke-linecap:round; stroke-linejoin:round; stroke-width:4; stroke-opacity:1; fill:none\" points=\"1125.32,880.967 1112.21,858.267 1086,858.267 1072.89,880.967 1086,903.668 1112.21,903.668 1125.32,880.967 \"/>\n",
       "<path clip-path=\"url(#clip332)\" d=\"M1214.47 262.717 L1214.13 262.517 L1214.13 262.117 L1214.47 261.917 L1214.82 262.117 L1214.82 262.517 Z\" fill=\"#009af9\" fill-rule=\"evenodd\" fill-opacity=\"1\" stroke=\"#000000\" stroke-opacity=\"1\" stroke-width=\"3.2\"/>\n",
       "<path clip-path=\"url(#clip332)\" d=\"M1402.22 500.196 L1401.87 499.996 L1401.87 499.596 L1402.22 499.396 L1402.56 499.596 L1402.56 499.996 Z\" fill=\"#009af9\" fill-rule=\"evenodd\" fill-opacity=\"1\" stroke=\"#000000\" stroke-opacity=\"1\" stroke-width=\"3.2\"/>\n",
       "<path clip-path=\"url(#clip332)\" d=\"M1368.04 785.888 L1367.69 785.688 L1367.69 785.288 L1368.04 785.088 L1368.38 785.288 L1368.38 785.688 Z\" fill=\"#009af9\" fill-rule=\"evenodd\" fill-opacity=\"1\" stroke=\"#000000\" stroke-opacity=\"1\" stroke-width=\"3.2\"/>\n",
       "<path clip-path=\"url(#clip332)\" d=\"M1548.9 814.962 L1548.55 814.762 L1548.55 814.362 L1548.9 814.162 L1549.24 814.362 L1549.24 814.762 Z\" fill=\"#009af9\" fill-rule=\"evenodd\" fill-opacity=\"1\" stroke=\"#000000\" stroke-opacity=\"1\" stroke-width=\"3.2\"/>\n",
       "<path clip-path=\"url(#clip332)\" d=\"M1684.11 1066.62 L1683.77 1066.42 L1683.77 1066.02 L1684.11 1065.82 L1684.46 1066.02 L1684.46 1066.42 Z\" fill=\"#009af9\" fill-rule=\"evenodd\" fill-opacity=\"1\" stroke=\"#000000\" stroke-opacity=\"1\" stroke-width=\"3.2\"/>\n",
       "<path clip-path=\"url(#clip332)\" d=\"M1587.62 1119.64 L1587.28 1119.44 L1587.28 1119.04 L1587.62 1118.84 L1587.97 1119.04 L1587.97 1119.44 Z\" fill=\"#009af9\" fill-rule=\"evenodd\" fill-opacity=\"1\" stroke=\"#000000\" stroke-opacity=\"1\" stroke-width=\"3.2\"/>\n",
       "<path clip-path=\"url(#clip332)\" d=\"M1737.68 1314.77 L1737.34 1314.57 L1737.34 1314.17 L1737.68 1313.97 L1738.03 1314.17 L1738.03 1314.57 Z\" fill=\"#009af9\" fill-rule=\"evenodd\" fill-opacity=\"1\" stroke=\"#000000\" stroke-opacity=\"1\" stroke-width=\"3.2\"/>\n",
       "<path clip-path=\"url(#clip332)\" d=\"M1517.59 1308.69 L1517.24 1308.49 L1517.24 1308.09 L1517.59 1307.89 L1517.94 1308.09 L1517.94 1308.49 Z\" fill=\"#009af9\" fill-rule=\"evenodd\" fill-opacity=\"1\" stroke=\"#000000\" stroke-opacity=\"1\" stroke-width=\"3.2\"/>\n",
       "<path clip-path=\"url(#clip332)\" d=\"M1060.29 637.557 L1059.95 637.357 L1059.95 636.957 L1060.29 636.757 L1060.64 636.957 L1060.64 637.357 Z\" fill=\"#009af9\" fill-rule=\"evenodd\" fill-opacity=\"1\" stroke=\"#000000\" stroke-opacity=\"1\" stroke-width=\"3.2\"/>\n",
       "<path clip-path=\"url(#clip332)\" d=\"M883.285 771.939 L882.939 771.739 L882.939 771.339 L883.285 771.139 L883.631 771.339 L883.631 771.739 Z\" fill=\"#009af9\" fill-rule=\"evenodd\" fill-opacity=\"1\" stroke=\"#000000\" stroke-opacity=\"1\" stroke-width=\"3.2\"/>\n",
       "<path clip-path=\"url(#clip332)\" d=\"M836.16 1121.7 L835.814 1121.5 L835.814 1121.1 L836.16 1120.9 L836.507 1121.1 L836.507 1121.5 Z\" fill=\"#009af9\" fill-rule=\"evenodd\" fill-opacity=\"1\" stroke=\"#000000\" stroke-opacity=\"1\" stroke-width=\"3.2\"/>\n",
       "<path clip-path=\"url(#clip332)\" d=\"M662.317 1256.94 L661.971 1256.74 L661.971 1256.34 L662.317 1256.14 L662.664 1256.34 L662.664 1256.74 Z\" fill=\"#009af9\" fill-rule=\"evenodd\" fill-opacity=\"1\" stroke=\"#000000\" stroke-opacity=\"1\" stroke-width=\"3.2\"/>\n",
       "<path clip-path=\"url(#clip332)\" d=\"M852.746 1338.08 L852.4 1337.88 L852.4 1337.48 L852.746 1337.28 L853.092 1337.48 L853.092 1337.88 Z\" fill=\"#009af9\" fill-rule=\"evenodd\" fill-opacity=\"1\" stroke=\"#000000\" stroke-opacity=\"1\" stroke-width=\"3.2\"/>\n",
       "<path clip-path=\"url(#clip332)\" d=\"M763.574 1017.53 L763.227 1017.33 L763.227 1016.93 L763.574 1016.73 L763.92 1016.93 L763.92 1017.33 Z\" fill=\"#009af9\" fill-rule=\"evenodd\" fill-opacity=\"1\" stroke=\"#000000\" stroke-opacity=\"1\" stroke-width=\"3.2\"/>\n",
       "<path clip-path=\"url(#clip332)\" d=\"M1099.11 881.367 L1098.76 881.167 L1098.76 880.767 L1099.11 880.567 L1099.45 880.767 L1099.45 881.167 Z\" fill=\"#009af9\" fill-rule=\"evenodd\" fill-opacity=\"1\" stroke=\"#000000\" stroke-opacity=\"1\" stroke-width=\"3.2\"/>\n",
       "<path clip-path=\"url(#clip330)\" d=\"M1206.06 273.994 L1212.74 273.994 L1212.74 250.924 L1205.47 252.382 L1205.47 248.656 L1212.7 247.197 L1216.79 247.197 L1216.79 273.994 L1223.48 273.994 L1223.48 277.437 L1206.06 277.437 L1206.06 273.994 Z\" fill=\"#000000\" fill-rule=\"nonzero\" fill-opacity=\"1\" /><path clip-path=\"url(#clip330)\" d=\"M1397.54 511.473 L1411.82 511.473 L1411.82 514.916 L1392.62 514.916 L1392.62 511.473 Q1394.95 509.063 1398.96 505.012 Q1402.99 500.94 1404.02 499.766 Q1405.98 497.558 1406.75 496.039 Q1407.54 494.5 1407.54 493.021 Q1407.54 490.611 1405.84 489.092 Q1404.16 487.573 1401.45 487.573 Q1399.52 487.573 1397.38 488.241 Q1395.25 488.909 1392.82 490.266 L1392.82 486.134 Q1395.29 485.142 1397.44 484.636 Q1399.58 484.129 1401.37 484.129 Q1406.06 484.129 1408.86 486.479 Q1411.66 488.828 1411.66 492.758 Q1411.66 494.621 1410.95 496.302 Q1410.26 497.963 1408.41 500.232 Q1407.91 500.819 1405.19 503.634 Q1402.48 506.429 1397.54 511.473 Z\" fill=\"#000000\" fill-rule=\"nonzero\" fill-opacity=\"1\" /><path clip-path=\"url(#clip330)\" d=\"M1371.75 784.303 Q1374.69 784.931 1376.33 786.916 Q1377.99 788.901 1377.99 791.818 Q1377.99 796.294 1374.91 798.745 Q1371.84 801.196 1366.16 801.196 Q1364.26 801.196 1362.23 800.811 Q1360.23 800.446 1358.08 799.697 L1358.08 795.747 Q1359.78 796.74 1361.81 797.246 Q1363.83 797.752 1366.04 797.752 Q1369.89 797.752 1371.9 796.233 Q1373.92 794.714 1373.92 791.818 Q1373.92 789.144 1372.04 787.645 Q1370.17 786.126 1366.83 786.126 L1363.31 786.126 L1363.31 782.764 L1366.99 782.764 Q1370.01 782.764 1371.61 781.569 Q1373.21 780.354 1373.21 778.085 Q1373.21 775.756 1371.55 774.52 Q1369.91 773.265 1366.83 773.265 Q1365.15 773.265 1363.23 773.629 Q1361.3 773.994 1358.99 774.763 L1358.99 771.118 Q1361.32 770.469 1363.35 770.145 Q1365.39 769.821 1367.2 769.821 Q1371.86 769.821 1374.57 771.948 Q1377.28 774.055 1377.28 777.66 Q1377.28 780.171 1375.85 781.913 Q1374.41 783.635 1371.75 784.303 Z\" fill=\"#000000\" fill-rule=\"nonzero\" fill-opacity=\"1\" /><path clip-path=\"url(#clip330)\" d=\"M1551.53 803.007 L1541.2 819.149 L1551.53 819.149 L1551.53 803.007 M1550.46 799.442 L1555.6 799.442 L1555.6 819.149 L1559.91 819.149 L1559.91 822.552 L1555.6 822.552 L1555.6 829.682 L1551.53 829.682 L1551.53 822.552 L1537.88 822.552 L1537.88 818.603 L1550.46 799.442 Z\" fill=\"#000000\" fill-rule=\"nonzero\" fill-opacity=\"1\" /><path clip-path=\"url(#clip330)\" d=\"M1675.61 1051.1 L1691.67 1051.1 L1691.67 1054.54 L1679.35 1054.54 L1679.35 1061.96 Q1680.24 1061.65 1681.14 1061.51 Q1682.03 1061.35 1682.92 1061.35 Q1687.98 1061.35 1690.94 1064.12 Q1693.9 1066.9 1693.9 1071.64 Q1693.9 1076.52 1690.86 1079.23 Q1687.82 1081.93 1682.29 1081.93 Q1680.39 1081.93 1678.4 1081.6 Q1676.44 1081.28 1674.33 1080.63 L1674.33 1076.52 Q1676.15 1077.51 1678.1 1078 Q1680.04 1078.48 1682.21 1078.48 Q1685.71 1078.48 1687.76 1076.64 Q1689.8 1074.8 1689.8 1071.64 Q1689.8 1068.48 1687.76 1066.63 Q1685.71 1064.79 1682.21 1064.79 Q1680.57 1064.79 1678.93 1065.16 Q1677.31 1065.52 1675.61 1066.29 L1675.61 1051.1 Z\" fill=\"#000000\" fill-rule=\"nonzero\" fill-opacity=\"1\" /><path clip-path=\"url(#clip330)\" d=\"M1587.98 1117.61 Q1585.22 1117.61 1583.6 1119.5 Q1582 1121.38 1582 1124.66 Q1582 1127.92 1583.6 1129.83 Q1585.22 1131.71 1587.98 1131.71 Q1590.73 1131.71 1592.33 1129.83 Q1593.95 1127.92 1593.95 1124.66 Q1593.95 1121.38 1592.33 1119.5 Q1590.73 1117.61 1587.98 1117.61 M1596.1 1104.79 L1596.1 1108.52 Q1594.56 1107.79 1592.98 1107.41 Q1591.42 1107.02 1589.88 1107.02 Q1585.83 1107.02 1583.68 1109.76 Q1581.56 1112.49 1581.25 1118.02 Q1582.45 1116.26 1584.25 1115.33 Q1586.05 1114.37 1588.22 1114.37 Q1592.78 1114.37 1595.41 1117.15 Q1598.06 1119.9 1598.06 1124.66 Q1598.06 1129.32 1595.31 1132.14 Q1592.56 1134.95 1587.98 1134.95 Q1582.73 1134.95 1579.96 1130.94 Q1577.18 1126.91 1577.18 1119.28 Q1577.18 1112.11 1580.58 1107.85 Q1583.99 1103.58 1589.72 1103.58 Q1591.26 1103.58 1592.82 1103.88 Q1594.4 1104.19 1596.1 1104.79 Z\" fill=\"#000000\" fill-rule=\"nonzero\" fill-opacity=\"1\" /><path clip-path=\"url(#clip330)\" d=\"M1727.96 1299.25 L1747.4 1299.25 L1747.4 1300.99 L1736.43 1329.49 L1732.15 1329.49 L1742.48 1302.69 L1727.96 1302.69 L1727.96 1299.25 Z\" fill=\"#000000\" fill-rule=\"nonzero\" fill-opacity=\"1\" /><path clip-path=\"url(#clip330)\" d=\"M1517.59 1309.05 Q1514.67 1309.05 1512.99 1310.61 Q1511.33 1312.17 1511.33 1314.9 Q1511.33 1317.64 1512.99 1319.2 Q1514.67 1320.75 1517.59 1320.75 Q1520.51 1320.75 1522.19 1319.2 Q1523.87 1317.62 1523.87 1314.9 Q1523.87 1312.17 1522.19 1310.61 Q1520.53 1309.05 1517.59 1309.05 M1513.5 1307.31 Q1510.87 1306.66 1509.39 1304.85 Q1507.93 1303.05 1507.93 1300.46 Q1507.93 1296.83 1510.5 1294.73 Q1513.09 1292.62 1517.59 1292.62 Q1522.11 1292.62 1524.68 1294.73 Q1527.25 1296.83 1527.25 1300.46 Q1527.25 1303.05 1525.77 1304.85 Q1524.32 1306.66 1521.7 1307.31 Q1524.66 1307.99 1526.3 1310 Q1527.96 1312 1527.96 1314.9 Q1527.96 1319.3 1525.27 1321.65 Q1522.59 1324 1517.59 1324 Q1512.59 1324 1509.89 1321.65 Q1507.22 1319.3 1507.22 1314.9 Q1507.22 1312 1508.88 1310 Q1510.54 1307.99 1513.5 1307.31 M1512 1300.84 Q1512 1303.19 1513.46 1304.51 Q1514.94 1305.83 1517.59 1305.83 Q1520.22 1305.83 1521.7 1304.51 Q1523.2 1303.19 1523.2 1300.84 Q1523.2 1298.49 1521.7 1297.18 Q1520.22 1295.86 1517.59 1295.86 Q1514.94 1295.86 1513.46 1297.18 Q1512 1298.49 1512 1300.84 Z\" fill=\"#000000\" fill-rule=\"nonzero\" fill-opacity=\"1\" /><path clip-path=\"url(#clip330)\" d=\"M1051.81 651.649 L1051.81 647.922 Q1053.35 648.651 1054.93 649.036 Q1056.51 649.421 1058.03 649.421 Q1062.08 649.421 1064.2 646.707 Q1066.35 643.972 1066.65 638.423 Q1065.48 640.165 1063.68 641.096 Q1061.87 642.028 1059.69 642.028 Q1055.15 642.028 1052.5 639.294 Q1049.86 636.539 1049.86 631.779 Q1049.86 627.121 1052.62 624.305 Q1055.37 621.49 1059.95 621.49 Q1065.2 621.49 1067.95 625.521 Q1070.73 629.531 1070.73 637.187 Q1070.73 644.337 1067.32 648.611 Q1063.94 652.864 1058.21 652.864 Q1056.67 652.864 1055.09 652.56 Q1053.51 652.257 1051.81 651.649 M1059.95 638.828 Q1062.7 638.828 1064.3 636.944 Q1065.93 635.06 1065.93 631.779 Q1065.93 628.518 1064.3 626.635 Q1062.7 624.731 1059.95 624.731 Q1057.2 624.731 1055.58 626.635 Q1053.97 628.518 1053.97 631.779 Q1053.97 635.06 1055.58 636.944 Q1057.2 638.828 1059.95 638.828 Z\" fill=\"#000000\" fill-rule=\"nonzero\" fill-opacity=\"1\" /><path clip-path=\"url(#clip330)\" d=\"M861.137 783.215 L867.821 783.215 L867.821 760.145 L860.549 761.604 L860.549 757.877 L867.78 756.419 L871.871 756.419 L871.871 783.215 L878.555 783.215 L878.555 786.659 L861.137 786.659 L861.137 783.215 Z\" fill=\"#000000\" fill-rule=\"nonzero\" fill-opacity=\"1\" /><path clip-path=\"url(#clip330)\" d=\"M895.569 759.112 Q892.41 759.112 890.809 762.232 Q889.23 765.331 889.23 771.569 Q889.23 777.787 890.809 780.906 Q892.41 784.005 895.569 784.005 Q898.749 784.005 900.329 780.906 Q901.929 777.787 901.929 771.569 Q901.929 765.331 900.329 762.232 Q898.749 759.112 895.569 759.112 M895.569 755.872 Q900.653 755.872 903.327 759.902 Q906.021 763.913 906.021 771.569 Q906.021 779.205 903.327 783.236 Q900.653 787.246 895.569 787.246 Q890.485 787.246 887.792 783.236 Q885.118 779.205 885.118 771.569 Q885.118 763.913 887.792 759.902 Q890.485 755.872 895.569 755.872 Z\" fill=\"#000000\" fill-rule=\"nonzero\" fill-opacity=\"1\" /><path clip-path=\"url(#clip330)\" d=\"M814.549 1132.97 L821.233 1132.97 L821.233 1109.9 L813.961 1111.36 L813.961 1107.63 L821.192 1106.18 L825.284 1106.18 L825.284 1132.97 L831.968 1132.97 L831.968 1136.42 L814.549 1136.42 L814.549 1132.97 Z\" fill=\"#000000\" fill-rule=\"nonzero\" fill-opacity=\"1\" /><path clip-path=\"url(#clip330)\" d=\"M840.94 1132.97 L847.624 1132.97 L847.624 1109.9 L840.353 1111.36 L840.353 1107.63 L847.584 1106.18 L851.675 1106.18 L851.675 1132.97 L858.359 1132.97 L858.359 1136.42 L840.94 1136.42 L840.94 1132.97 Z\" fill=\"#000000\" fill-rule=\"nonzero\" fill-opacity=\"1\" /><path clip-path=\"url(#clip330)\" d=\"M640.868 1268.22 L647.552 1268.22 L647.552 1245.15 L640.28 1246.61 L640.28 1242.88 L647.511 1241.42 L651.603 1241.42 L651.603 1268.22 L658.287 1268.22 L658.287 1271.66 L640.868 1271.66 L640.868 1268.22 Z\" fill=\"#000000\" fill-rule=\"nonzero\" fill-opacity=\"1\" /><path clip-path=\"url(#clip330)\" d=\"M670.075 1268.22 L684.354 1268.22 L684.354 1271.66 L665.153 1271.66 L665.153 1268.22 Q667.482 1265.81 671.493 1261.76 Q675.523 1257.69 676.556 1256.51 Q678.521 1254.3 679.29 1252.79 Q680.08 1251.25 680.08 1249.77 Q680.08 1247.36 678.379 1245.84 Q676.698 1244.32 673.984 1244.32 Q672.06 1244.32 669.913 1244.99 Q667.786 1245.66 665.355 1247.01 L665.355 1242.88 Q667.826 1241.89 669.973 1241.38 Q672.12 1240.88 673.903 1240.88 Q678.602 1240.88 681.397 1243.23 Q684.192 1245.58 684.192 1249.5 Q684.192 1251.37 683.483 1253.05 Q682.795 1254.71 680.951 1256.98 Q680.445 1257.57 677.731 1260.38 Q675.017 1263.18 670.075 1268.22 Z\" fill=\"#000000\" fill-rule=\"nonzero\" fill-opacity=\"1\" /><path clip-path=\"url(#clip330)\" d=\"M830.881 1349.36 L837.565 1349.36 L837.565 1326.29 L830.294 1327.75 L830.294 1324.02 L837.525 1322.56 L841.616 1322.56 L841.616 1349.36 L848.3 1349.36 L848.3 1352.8 L830.881 1352.8 L830.881 1349.36 Z\" fill=\"#000000\" fill-rule=\"nonzero\" fill-opacity=\"1\" /><path clip-path=\"url(#clip330)\" d=\"M868.96 1336.5 Q871.897 1337.13 873.537 1339.11 Q875.198 1341.1 875.198 1344.01 Q875.198 1348.49 872.12 1350.94 Q869.041 1353.39 863.37 1353.39 Q861.466 1353.39 859.44 1353.01 Q857.435 1352.64 855.288 1351.89 L855.288 1347.94 Q856.989 1348.93 859.015 1349.44 Q861.04 1349.95 863.248 1349.95 Q867.096 1349.95 869.102 1348.43 Q871.127 1346.91 871.127 1344.01 Q871.127 1341.34 869.243 1339.84 Q867.38 1338.32 864.038 1338.32 L860.514 1338.32 L860.514 1334.96 L864.2 1334.96 Q867.218 1334.96 868.818 1333.76 Q870.418 1332.55 870.418 1330.28 Q870.418 1327.95 868.757 1326.71 Q867.117 1325.46 864.038 1325.46 Q862.357 1325.46 860.433 1325.82 Q858.508 1326.19 856.199 1326.96 L856.199 1323.31 Q858.529 1322.66 860.554 1322.34 Q862.6 1322.02 864.403 1322.02 Q869.061 1322.02 871.775 1324.14 Q874.489 1326.25 874.489 1329.85 Q874.489 1332.37 873.051 1334.11 Q871.613 1335.83 868.96 1336.5 Z\" fill=\"#000000\" fill-rule=\"nonzero\" fill-opacity=\"1\" /><path clip-path=\"url(#clip330)\" d=\"M741.213 1028.81 L747.897 1028.81 L747.897 1005.74 L740.625 1007.19 L740.625 1003.47 L747.856 1002.01 L751.947 1002.01 L751.947 1028.81 L758.631 1028.81 L758.631 1032.25 L741.213 1032.25 L741.213 1028.81 Z\" fill=\"#000000\" fill-rule=\"nonzero\" fill-opacity=\"1\" /><path clip-path=\"url(#clip330)\" d=\"M778.137 1005.57 L767.807 1021.72 L778.137 1021.72 L778.137 1005.57 M777.063 1002.01 L782.208 1002.01 L782.208 1021.72 L786.522 1021.72 L786.522 1025.12 L782.208 1025.12 L782.208 1032.25 L778.137 1032.25 L778.137 1025.12 L764.485 1025.12 L764.485 1021.17 L777.063 1002.01 Z\" fill=\"#000000\" fill-rule=\"nonzero\" fill-opacity=\"1\" /><path clip-path=\"url(#clip330)\" d=\"M1077.39 892.644 L1084.08 892.644 L1084.08 869.574 L1076.81 871.032 L1076.81 867.306 L1084.04 865.847 L1088.13 865.847 L1088.13 892.644 L1094.81 892.644 L1094.81 896.087 L1077.39 896.087 L1077.39 892.644 Z\" fill=\"#000000\" fill-rule=\"nonzero\" fill-opacity=\"1\" /><path clip-path=\"url(#clip330)\" d=\"M1103.12 865.847 L1119.18 865.847 L1119.18 869.29 L1106.86 869.29 L1106.86 876.704 Q1107.75 876.4 1108.65 876.258 Q1109.54 876.096 1110.43 876.096 Q1115.49 876.096 1118.45 878.871 Q1121.41 881.646 1121.41 886.385 Q1121.41 891.267 1118.37 893.981 Q1115.33 896.675 1109.8 896.675 Q1107.9 896.675 1105.91 896.351 Q1103.95 896.026 1101.84 895.378 L1101.84 891.267 Q1103.66 892.259 1105.61 892.745 Q1107.55 893.231 1109.72 893.231 Q1113.22 893.231 1115.27 891.388 Q1117.31 889.545 1117.31 886.385 Q1117.31 883.226 1115.27 881.382 Q1113.22 879.539 1109.72 879.539 Q1108.08 879.539 1106.44 879.904 Q1104.82 880.268 1103.12 881.038 L1103.12 865.847 Z\" fill=\"#000000\" fill-rule=\"nonzero\" fill-opacity=\"1\" /></svg>\n"
      ],
      "text/html": [
       "<?xml version=\"1.0\" encoding=\"utf-8\"?>\n",
       "<svg xmlns=\"http://www.w3.org/2000/svg\" xmlns:xlink=\"http://www.w3.org/1999/xlink\" width=\"600\" height=\"400\" viewBox=\"0 0 2400 1600\">\n",
       "<defs>\n",
       "  <clipPath id=\"clip360\">\n",
       "    <rect x=\"0\" y=\"0\" width=\"2400\" height=\"1600\"/>\n",
       "  </clipPath>\n",
       "</defs>\n",
       "<path clip-path=\"url(#clip360)\" d=\"M0 1600 L2400 1600 L2400 0 L0 0  Z\" fill=\"#ffffff\" fill-rule=\"evenodd\" fill-opacity=\"1\"/>\n",
       "<defs>\n",
       "  <clipPath id=\"clip361\">\n",
       "    <rect x=\"480\" y=\"0\" width=\"1681\" height=\"1600\"/>\n",
       "  </clipPath>\n",
       "</defs>\n",
       "<path clip-path=\"url(#clip360)\" d=\"M447.244 1552.76 L1952.76 1552.76 L1952.76 47.2441 L447.244 47.2441  Z\" fill=\"#ffffff\" fill-rule=\"evenodd\" fill-opacity=\"1\"/>\n",
       "<defs>\n",
       "  <clipPath id=\"clip362\">\n",
       "    <rect x=\"447\" y=\"47\" width=\"1507\" height=\"1507\"/>\n",
       "  </clipPath>\n",
       "</defs>\n",
       "<polyline clip-path=\"url(#clip362)\" style=\"stroke:#000000; stroke-linecap:round; stroke-linejoin:round; stroke-width:4; stroke-opacity:1; fill:none\" points=\"1214.47,262.317 1215.13,271.59 1217.03,280.631 1220.09,289.457 1224.2,298.084 1229.29,306.532 1235.26,314.815 1242.01,322.952 1249.45,330.961 1257.5,338.857 1266.05,346.659 1275.02,354.383 1284.31,362.047 1293.83,369.668 1303.49,377.263 1313.2,384.85 1322.86,392.445 1332.38,400.066 1341.67,407.73 1350.64,415.455 1359.19,423.256 1367.24,431.153 1374.68,439.161 1381.43,447.298 1387.4,455.582 1392.49,464.029 1396.6,472.657 1399.66,481.482 1401.56,490.523 1402.22,499.796 \"/>\n",
       "<polyline clip-path=\"url(#clip362)\" style=\"stroke:#000000; stroke-linecap:round; stroke-linejoin:round; stroke-width:4; stroke-opacity:1; fill:none\" points=\"1402.22,499.796 1402.1,508.819 1401.75,518.019 1401.19,527.384 1400.45,536.9 1399.52,546.554 1398.43,556.333 1397.2,566.224 1395.85,576.214 1394.38,586.289 1392.83,596.436 1391.19,606.643 1389.5,616.895 1387.77,627.181 1386.01,637.486 1384.24,647.798 1382.48,658.103 1380.75,668.389 1379.06,678.642 1377.43,688.848 1375.87,698.996 1374.41,709.071 1373.05,719.06 1371.82,728.951 1370.74,738.73 1369.81,748.384 1369.06,757.9 1368.5,767.265 1368.16,776.466 1368.04,785.488 \"/>\n",
       "<polyline clip-path=\"url(#clip362)\" style=\"stroke:#000000; stroke-linecap:round; stroke-linejoin:round; stroke-width:4; stroke-opacity:1; fill:none\" points=\"1402.22,499.796 1402.73,510.581 1404.21,521.381 1406.6,532.194 1409.82,543.02 1413.79,553.858 1418.45,564.706 1423.73,575.563 1429.54,586.428 1435.83,597.301 1442.51,608.18 1449.52,619.063 1456.78,629.951 1464.22,640.841 1471.76,651.733 1479.35,662.625 1486.9,673.517 1494.34,684.407 1501.59,695.295 1508.6,706.178 1515.28,717.057 1521.57,727.929 1527.38,738.795 1532.66,749.652 1537.32,760.5 1541.29,771.338 1544.51,782.164 1546.9,792.977 1548.38,803.777 1548.9,814.562 \"/>\n",
       "<polyline clip-path=\"url(#clip362)\" style=\"stroke:#000000; stroke-linecap:round; stroke-linejoin:round; stroke-width:4; stroke-opacity:1; fill:none\" points=\"1548.9,814.562 1549.37,823.409 1550.74,832.22 1552.94,840.997 1555.9,849.743 1559.57,858.461 1563.86,867.154 1568.73,875.824 1574.09,884.473 1579.88,893.105 1586.04,901.723 1592.5,910.328 1599.19,918.924 1606.05,927.513 1613.01,936.098 1620,944.682 1626.96,953.267 1633.82,961.857 1640.51,970.453 1646.97,979.058 1653.13,987.675 1658.92,996.308 1664.28,1004.96 1669.14,1013.63 1673.44,1022.32 1677.1,1031.04 1680.07,1039.78 1682.27,1048.56 1683.64,1057.37 1684.11,1066.22 \"/>\n",
       "<polyline clip-path=\"url(#clip362)\" style=\"stroke:#000000; stroke-linecap:round; stroke-linejoin:round; stroke-width:4; stroke-opacity:1; fill:none\" points=\"1548.9,814.562 1549.03,824.192 1549.42,834.01 1550.05,844.002 1550.9,854.154 1551.95,864.451 1553.18,874.881 1554.58,885.429 1556.11,896.082 1557.77,906.824 1559.53,917.643 1561.38,928.525 1563.3,939.456 1565.27,950.421 1567.26,961.407 1569.26,972.4 1571.25,983.386 1573.22,994.351 1575.13,1005.28 1576.98,1016.16 1578.75,1026.98 1580.41,1037.73 1581.94,1048.38 1583.34,1058.93 1584.57,1069.36 1585.62,1079.65 1586.47,1089.8 1587.1,1099.8 1587.49,1109.61 1587.62,1119.24 \"/>\n",
       "<polyline clip-path=\"url(#clip362)\" style=\"stroke:#000000; stroke-linecap:round; stroke-linejoin:round; stroke-width:4; stroke-opacity:1; fill:none\" points=\"1587.62,1119.24 1588.15,1126.79 1589.67,1134.16 1592.11,1141.37 1595.4,1148.43 1599.47,1155.36 1604.24,1162.16 1609.63,1168.85 1615.58,1175.44 1622.01,1181.94 1628.85,1188.38 1636.01,1194.76 1643.44,1201.09 1651.05,1207.39 1658.77,1213.67 1666.53,1219.94 1674.25,1226.22 1681.87,1232.52 1689.29,1238.85 1696.46,1245.23 1703.3,1251.67 1709.72,1258.17 1715.67,1264.77 1721.07,1271.46 1725.84,1278.26 1729.91,1285.18 1733.2,1292.24 1735.64,1299.45 1737.16,1306.82 1737.68,1314.37 \"/>\n",
       "<polyline clip-path=\"url(#clip362)\" style=\"stroke:#000000; stroke-linecap:round; stroke-linejoin:round; stroke-width:4; stroke-opacity:1; fill:none\" points=\"1587.62,1119.24 1587.38,1125.53 1586.67,1131.86 1585.53,1138.24 1583.99,1144.67 1582.1,1151.13 1579.87,1157.63 1577.35,1164.16 1574.58,1170.71 1571.57,1177.3 1568.38,1183.9 1565.04,1190.52 1561.57,1197.15 1558.02,1203.79 1554.42,1210.44 1550.8,1217.09 1547.19,1223.74 1543.64,1230.38 1540.18,1237.01 1536.83,1243.63 1533.64,1250.24 1530.64,1256.82 1527.86,1263.38 1525.34,1269.91 1523.12,1276.41 1521.22,1282.87 1519.68,1289.29 1518.54,1295.67 1517.84,1302 1517.59,1308.29 \"/>\n",
       "<polyline clip-path=\"url(#clip362)\" style=\"stroke:#000000; stroke-linecap:round; stroke-linejoin:round; stroke-width:4; stroke-opacity:1; fill:none\" points=\"1214.47,262.317 1213.94,274.931 1212.37,287.611 1209.86,300.354 1206.48,313.153 1202.3,326.004 1197.4,338.902 1191.86,351.843 1185.75,364.82 1179.14,377.83 1172.12,390.867 1164.75,403.926 1157.12,417.002 1149.3,430.091 1141.37,443.188 1133.4,456.286 1125.46,469.383 1117.64,482.472 1110.01,495.548 1102.65,508.607 1095.63,521.644 1089.02,534.654 1082.91,547.631 1077.36,560.572 1072.46,573.47 1068.28,586.321 1064.9,599.12 1062.39,611.863 1060.83,624.543 1060.29,637.157 \"/>\n",
       "<polyline clip-path=\"url(#clip362)\" style=\"stroke:#000000; stroke-linecap:round; stroke-linejoin:round; stroke-width:4; stroke-opacity:1; fill:none\" points=\"1060.29,637.157 1059.68,643.825 1057.88,650.058 1055,655.886 1051.12,661.344 1046.32,666.462 1040.7,671.273 1034.33,675.81 1027.32,680.105 1019.73,684.19 1011.67,688.097 1003.21,691.859 994.452,695.508 985.474,699.076 976.366,702.596 967.214,706.099 958.105,709.619 949.127,713.187 940.367,716.836 931.912,720.598 923.849,724.505 916.264,728.59 909.246,732.885 902.881,737.422 897.256,742.233 892.459,747.352 888.576,752.809 885.694,758.638 883.902,764.87 883.285,771.539 \"/>\n",
       "<polyline clip-path=\"url(#clip362)\" style=\"stroke:#000000; stroke-linecap:round; stroke-linejoin:round; stroke-width:4; stroke-opacity:1; fill:none\" points=\"883.285,771.539 883.121,782.603 882.643,793.881 881.876,805.357 880.843,817.014 879.565,828.838 878.068,840.811 876.373,852.919 874.505,865.146 872.486,877.475 870.339,889.892 868.088,902.379 865.756,914.922 863.366,927.504 860.941,940.11 858.504,952.724 856.079,965.33 853.689,977.913 851.357,990.455 849.106,1002.94 846.959,1015.36 844.94,1027.69 843.072,1039.92 841.377,1052.02 839.88,1064 838.603,1075.82 837.569,1087.48 836.802,1098.95 836.324,1110.23 836.16,1121.3 \"/>\n",
       "<polyline clip-path=\"url(#clip362)\" style=\"stroke:#000000; stroke-linecap:round; stroke-linejoin:round; stroke-width:4; stroke-opacity:1; fill:none\" points=\"836.16,1121.3 835.554,1127.91 833.794,1134.11 830.964,1139.92 827.15,1145.37 822.439,1150.5 816.915,1155.34 810.664,1159.91 803.771,1164.25 796.322,1168.38 788.403,1172.35 780.099,1176.18 771.496,1179.89 762.678,1183.54 753.733,1187.13 744.745,1190.71 735.799,1194.3 726.982,1197.94 718.378,1201.66 710.074,1205.49 702.155,1209.46 694.707,1213.59 687.814,1217.93 681.563,1222.5 676.038,1227.34 671.327,1232.47 667.513,1237.92 664.684,1243.73 662.923,1249.93 662.317,1256.54 \"/>\n",
       "<polyline clip-path=\"url(#clip362)\" style=\"stroke:#000000; stroke-linecap:round; stroke-linejoin:round; stroke-width:4; stroke-opacity:1; fill:none\" points=\"836.16,1121.3 836.218,1128.1 836.386,1135.05 836.656,1142.13 837.02,1149.33 837.469,1156.63 837.996,1164.04 838.593,1171.53 839.25,1179.1 839.961,1186.74 840.717,1194.44 841.509,1202.18 842.33,1209.95 843.171,1217.76 844.024,1225.58 844.882,1233.4 845.735,1241.22 846.577,1249.02 847.397,1256.8 848.19,1264.54 848.945,1272.24 849.656,1279.88 850.314,1287.45 850.91,1294.94 851.437,1302.34 851.886,1309.65 852.25,1316.85 852.52,1323.93 852.688,1330.87 852.746,1337.68 \"/>\n",
       "<polyline clip-path=\"url(#clip362)\" style=\"stroke:#000000; stroke-linecap:round; stroke-linejoin:round; stroke-width:4; stroke-opacity:1; fill:none\" points=\"883.285,771.539 882.868,780.017 881.655,788.493 879.707,796.967 877.081,805.439 873.836,813.91 870.032,822.38 865.728,830.848 860.981,839.315 855.852,847.781 850.399,856.246 844.68,864.711 838.756,873.175 832.684,881.639 826.524,890.102 820.334,898.566 814.174,907.029 808.103,915.493 802.178,923.957 796.46,932.422 791.007,940.887 785.877,949.353 781.131,957.821 776.826,966.289 773.022,974.758 769.778,983.229 767.152,991.702 765.203,1000.18 763.991,1008.65 763.574,1017.13 \"/>\n",
       "<polyline clip-path=\"url(#clip362)\" style=\"stroke:#000000; stroke-linecap:round; stroke-linejoin:round; stroke-width:4; stroke-opacity:1; fill:none\" points=\"1060.29,637.157 1060.43,644.894 1060.82,652.775 1061.45,660.788 1062.31,668.924 1063.36,677.172 1064.59,685.521 1065.99,693.96 1067.53,702.479 1069.19,711.067 1070.96,719.714 1072.81,728.408 1074.73,737.14 1076.7,745.898 1078.7,754.672 1080.7,763.452 1082.7,772.226 1084.67,780.984 1086.59,789.716 1088.44,798.41 1090.21,807.057 1091.87,815.645 1093.41,824.164 1094.81,832.603 1096.04,840.952 1097.09,849.2 1097.95,857.336 1098.58,865.349 1098.97,873.23 1099.11,880.967 \"/>\n",
       "<path clip-path=\"url(#clip362)\" d=\"M1229.53 262.317 L1222 249.279 L1206.95 249.279 L1199.42 262.317 L1206.95 275.355 L1222 275.355 L1229.53 262.317 L1229.53 262.317  Z\" fill=\"#009af9\" fill-rule=\"evenodd\" fill-opacity=\"1\"/>\n",
       "<polyline clip-path=\"url(#clip362)\" style=\"stroke:#000000; stroke-linecap:round; stroke-linejoin:round; stroke-width:4; stroke-opacity:1; fill:none\" points=\"1229.53,262.317 1222,249.279 1206.95,249.279 1199.42,262.317 1206.95,275.355 1222,275.355 1229.53,262.317 \"/>\n",
       "<path clip-path=\"url(#clip362)\" d=\"M1417.27 499.796 L1409.74 486.758 L1394.69 486.758 L1387.16 499.796 L1394.69 512.834 L1409.74 512.834 L1417.27 499.796 L1417.27 499.796  Z\" fill=\"#009af9\" fill-rule=\"evenodd\" fill-opacity=\"1\"/>\n",
       "<polyline clip-path=\"url(#clip362)\" style=\"stroke:#000000; stroke-linecap:round; stroke-linejoin:round; stroke-width:4; stroke-opacity:1; fill:none\" points=\"1417.27,499.796 1409.74,486.758 1394.69,486.758 1387.16,499.796 1394.69,512.834 1409.74,512.834 1417.27,499.796 \"/>\n",
       "<path clip-path=\"url(#clip362)\" d=\"M1383.09 785.488 L1375.56 772.45 L1360.51 772.45 L1352.98 785.488 L1360.51 798.526 L1375.56 798.526 L1383.09 785.488 L1383.09 785.488  Z\" fill=\"#009af9\" fill-rule=\"evenodd\" fill-opacity=\"1\"/>\n",
       "<polyline clip-path=\"url(#clip362)\" style=\"stroke:#000000; stroke-linecap:round; stroke-linejoin:round; stroke-width:4; stroke-opacity:1; fill:none\" points=\"1383.09,785.488 1375.56,772.45 1360.51,772.45 1352.98,785.488 1360.51,798.526 1375.56,798.526 1383.09,785.488 \"/>\n",
       "<path clip-path=\"url(#clip362)\" d=\"M1563.95 814.562 L1556.42 801.524 L1541.37 801.524 L1533.84 814.562 L1541.37 827.6 L1556.42 827.6 L1563.95 814.562 L1563.95 814.562  Z\" fill=\"#009af9\" fill-rule=\"evenodd\" fill-opacity=\"1\"/>\n",
       "<polyline clip-path=\"url(#clip362)\" style=\"stroke:#000000; stroke-linecap:round; stroke-linejoin:round; stroke-width:4; stroke-opacity:1; fill:none\" points=\"1563.95,814.562 1556.42,801.524 1541.37,801.524 1533.84,814.562 1541.37,827.6 1556.42,827.6 1563.95,814.562 \"/>\n",
       "<path clip-path=\"url(#clip362)\" d=\"M1699.17 1066.22 L1691.64 1053.18 L1676.59 1053.18 L1669.06 1066.22 L1676.59 1079.26 L1691.64 1079.26 L1699.17 1066.22 L1699.17 1066.22  Z\" fill=\"#009af9\" fill-rule=\"evenodd\" fill-opacity=\"1\"/>\n",
       "<polyline clip-path=\"url(#clip362)\" style=\"stroke:#000000; stroke-linecap:round; stroke-linejoin:round; stroke-width:4; stroke-opacity:1; fill:none\" points=\"1699.17,1066.22 1691.64,1053.18 1676.59,1053.18 1669.06,1066.22 1676.59,1079.26 1691.64,1079.26 1699.17,1066.22 \"/>\n",
       "<path clip-path=\"url(#clip362)\" d=\"M1602.68 1119.24 L1595.15 1106.21 L1580.1 1106.21 L1572.57 1119.24 L1580.1 1132.28 L1595.15 1132.28 L1602.68 1119.24 L1602.68 1119.24  Z\" fill=\"#009af9\" fill-rule=\"evenodd\" fill-opacity=\"1\"/>\n",
       "<polyline clip-path=\"url(#clip362)\" style=\"stroke:#000000; stroke-linecap:round; stroke-linejoin:round; stroke-width:4; stroke-opacity:1; fill:none\" points=\"1602.68,1119.24 1595.15,1106.21 1580.1,1106.21 1572.57,1119.24 1580.1,1132.28 1595.15,1132.28 1602.68,1119.24 \"/>\n",
       "<path clip-path=\"url(#clip362)\" d=\"M1752.74 1314.37 L1745.21 1301.33 L1730.16 1301.33 L1722.63 1314.37 L1730.16 1327.41 L1745.21 1327.41 L1752.74 1314.37 L1752.74 1314.37  Z\" fill=\"#009af9\" fill-rule=\"evenodd\" fill-opacity=\"1\"/>\n",
       "<polyline clip-path=\"url(#clip362)\" style=\"stroke:#000000; stroke-linecap:round; stroke-linejoin:round; stroke-width:4; stroke-opacity:1; fill:none\" points=\"1752.74,1314.37 1745.21,1301.33 1730.16,1301.33 1722.63,1314.37 1730.16,1327.41 1745.21,1327.41 1752.74,1314.37 \"/>\n",
       "<path clip-path=\"url(#clip362)\" d=\"M1532.65 1308.29 L1525.12 1295.25 L1510.06 1295.25 L1502.54 1308.29 L1510.06 1321.33 L1525.12 1321.33 L1532.65 1308.29 L1532.65 1308.29  Z\" fill=\"#009af9\" fill-rule=\"evenodd\" fill-opacity=\"1\"/>\n",
       "<polyline clip-path=\"url(#clip362)\" style=\"stroke:#000000; stroke-linecap:round; stroke-linejoin:round; stroke-width:4; stroke-opacity:1; fill:none\" points=\"1532.65,1308.29 1525.12,1295.25 1510.06,1295.25 1502.54,1308.29 1510.06,1321.33 1525.12,1321.33 1532.65,1308.29 \"/>\n",
       "<path clip-path=\"url(#clip362)\" d=\"M1075.35 637.157 L1067.82 624.119 L1052.77 624.119 L1045.24 637.157 L1052.77 650.195 L1067.82 650.195 L1075.35 637.157 L1075.35 637.157  Z\" fill=\"#009af9\" fill-rule=\"evenodd\" fill-opacity=\"1\"/>\n",
       "<polyline clip-path=\"url(#clip362)\" style=\"stroke:#000000; stroke-linecap:round; stroke-linejoin:round; stroke-width:4; stroke-opacity:1; fill:none\" points=\"1075.35,637.157 1067.82,624.119 1052.77,624.119 1045.24,637.157 1052.77,650.195 1067.82,650.195 1075.35,637.157 \"/>\n",
       "<path clip-path=\"url(#clip362)\" d=\"M909.497 771.539 L896.391 748.838 L870.179 748.838 L857.072 771.539 L870.179 794.239 L896.391 794.239 L909.497 771.539 L909.497 771.539  Z\" fill=\"#009af9\" fill-rule=\"evenodd\" fill-opacity=\"1\"/>\n",
       "<polyline clip-path=\"url(#clip362)\" style=\"stroke:#000000; stroke-linecap:round; stroke-linejoin:round; stroke-width:4; stroke-opacity:1; fill:none\" points=\"909.497,771.539 896.391,748.838 870.179,748.838 857.072,771.539 870.179,794.239 896.391,794.239 909.497,771.539 \"/>\n",
       "<path clip-path=\"url(#clip362)\" d=\"M862.373 1121.3 L849.266 1098.6 L823.054 1098.6 L809.948 1121.3 L823.054 1144 L849.266 1144 L862.373 1121.3 L862.373 1121.3  Z\" fill=\"#009af9\" fill-rule=\"evenodd\" fill-opacity=\"1\"/>\n",
       "<polyline clip-path=\"url(#clip362)\" style=\"stroke:#000000; stroke-linecap:round; stroke-linejoin:round; stroke-width:4; stroke-opacity:1; fill:none\" points=\"862.373,1121.3 849.266,1098.6 823.054,1098.6 809.948,1121.3 823.054,1144 849.266,1144 862.373,1121.3 \"/>\n",
       "<path clip-path=\"url(#clip362)\" d=\"M688.53 1256.54 L675.423 1233.84 L649.211 1233.84 L636.105 1256.54 L649.211 1279.24 L675.423 1279.24 L688.53 1256.54 L688.53 1256.54  Z\" fill=\"#009af9\" fill-rule=\"evenodd\" fill-opacity=\"1\"/>\n",
       "<polyline clip-path=\"url(#clip362)\" style=\"stroke:#000000; stroke-linecap:round; stroke-linejoin:round; stroke-width:4; stroke-opacity:1; fill:none\" points=\"688.53,1256.54 675.423,1233.84 649.211,1233.84 636.105,1256.54 649.211,1279.24 675.423,1279.24 688.53,1256.54 \"/>\n",
       "<path clip-path=\"url(#clip362)\" d=\"M878.959 1337.68 L865.852 1314.98 L839.64 1314.98 L826.534 1337.68 L839.64 1360.38 L865.852 1360.38 L878.959 1337.68 L878.959 1337.68  Z\" fill=\"#009af9\" fill-rule=\"evenodd\" fill-opacity=\"1\"/>\n",
       "<polyline clip-path=\"url(#clip362)\" style=\"stroke:#000000; stroke-linecap:round; stroke-linejoin:round; stroke-width:4; stroke-opacity:1; fill:none\" points=\"878.959,1337.68 865.852,1314.98 839.64,1314.98 826.534,1337.68 839.64,1360.38 865.852,1360.38 878.959,1337.68 \"/>\n",
       "<path clip-path=\"url(#clip362)\" d=\"M789.786 1017.13 L776.68 994.429 L750.467 994.429 L737.361 1017.13 L750.467 1039.83 L776.68 1039.83 L789.786 1017.13 L789.786 1017.13  Z\" fill=\"#009af9\" fill-rule=\"evenodd\" fill-opacity=\"1\"/>\n",
       "<polyline clip-path=\"url(#clip362)\" style=\"stroke:#000000; stroke-linecap:round; stroke-linejoin:round; stroke-width:4; stroke-opacity:1; fill:none\" points=\"789.786,1017.13 776.68,994.429 750.467,994.429 737.361,1017.13 750.467,1039.83 776.68,1039.83 789.786,1017.13 \"/>\n",
       "<path clip-path=\"url(#clip362)\" d=\"M1125.32 880.967 L1112.21 858.267 L1086 858.267 L1072.89 880.967 L1086 903.668 L1112.21 903.668 L1125.32 880.967 L1125.32 880.967  Z\" fill=\"#009af9\" fill-rule=\"evenodd\" fill-opacity=\"1\"/>\n",
       "<polyline clip-path=\"url(#clip362)\" style=\"stroke:#000000; stroke-linecap:round; stroke-linejoin:round; stroke-width:4; stroke-opacity:1; fill:none\" points=\"1125.32,880.967 1112.21,858.267 1086,858.267 1072.89,880.967 1086,903.668 1112.21,903.668 1125.32,880.967 \"/>\n",
       "<path clip-path=\"url(#clip362)\" d=\"M1214.47 262.717 L1214.13 262.517 L1214.13 262.117 L1214.47 261.917 L1214.82 262.117 L1214.82 262.517 Z\" fill=\"#009af9\" fill-rule=\"evenodd\" fill-opacity=\"1\" stroke=\"#000000\" stroke-opacity=\"1\" stroke-width=\"3.2\"/>\n",
       "<path clip-path=\"url(#clip362)\" d=\"M1402.22 500.196 L1401.87 499.996 L1401.87 499.596 L1402.22 499.396 L1402.56 499.596 L1402.56 499.996 Z\" fill=\"#009af9\" fill-rule=\"evenodd\" fill-opacity=\"1\" stroke=\"#000000\" stroke-opacity=\"1\" stroke-width=\"3.2\"/>\n",
       "<path clip-path=\"url(#clip362)\" d=\"M1368.04 785.888 L1367.69 785.688 L1367.69 785.288 L1368.04 785.088 L1368.38 785.288 L1368.38 785.688 Z\" fill=\"#009af9\" fill-rule=\"evenodd\" fill-opacity=\"1\" stroke=\"#000000\" stroke-opacity=\"1\" stroke-width=\"3.2\"/>\n",
       "<path clip-path=\"url(#clip362)\" d=\"M1548.9 814.962 L1548.55 814.762 L1548.55 814.362 L1548.9 814.162 L1549.24 814.362 L1549.24 814.762 Z\" fill=\"#009af9\" fill-rule=\"evenodd\" fill-opacity=\"1\" stroke=\"#000000\" stroke-opacity=\"1\" stroke-width=\"3.2\"/>\n",
       "<path clip-path=\"url(#clip362)\" d=\"M1684.11 1066.62 L1683.77 1066.42 L1683.77 1066.02 L1684.11 1065.82 L1684.46 1066.02 L1684.46 1066.42 Z\" fill=\"#009af9\" fill-rule=\"evenodd\" fill-opacity=\"1\" stroke=\"#000000\" stroke-opacity=\"1\" stroke-width=\"3.2\"/>\n",
       "<path clip-path=\"url(#clip362)\" d=\"M1587.62 1119.64 L1587.28 1119.44 L1587.28 1119.04 L1587.62 1118.84 L1587.97 1119.04 L1587.97 1119.44 Z\" fill=\"#009af9\" fill-rule=\"evenodd\" fill-opacity=\"1\" stroke=\"#000000\" stroke-opacity=\"1\" stroke-width=\"3.2\"/>\n",
       "<path clip-path=\"url(#clip362)\" d=\"M1737.68 1314.77 L1737.34 1314.57 L1737.34 1314.17 L1737.68 1313.97 L1738.03 1314.17 L1738.03 1314.57 Z\" fill=\"#009af9\" fill-rule=\"evenodd\" fill-opacity=\"1\" stroke=\"#000000\" stroke-opacity=\"1\" stroke-width=\"3.2\"/>\n",
       "<path clip-path=\"url(#clip362)\" d=\"M1517.59 1308.69 L1517.24 1308.49 L1517.24 1308.09 L1517.59 1307.89 L1517.94 1308.09 L1517.94 1308.49 Z\" fill=\"#009af9\" fill-rule=\"evenodd\" fill-opacity=\"1\" stroke=\"#000000\" stroke-opacity=\"1\" stroke-width=\"3.2\"/>\n",
       "<path clip-path=\"url(#clip362)\" d=\"M1060.29 637.557 L1059.95 637.357 L1059.95 636.957 L1060.29 636.757 L1060.64 636.957 L1060.64 637.357 Z\" fill=\"#009af9\" fill-rule=\"evenodd\" fill-opacity=\"1\" stroke=\"#000000\" stroke-opacity=\"1\" stroke-width=\"3.2\"/>\n",
       "<path clip-path=\"url(#clip362)\" d=\"M883.285 771.939 L882.939 771.739 L882.939 771.339 L883.285 771.139 L883.631 771.339 L883.631 771.739 Z\" fill=\"#009af9\" fill-rule=\"evenodd\" fill-opacity=\"1\" stroke=\"#000000\" stroke-opacity=\"1\" stroke-width=\"3.2\"/>\n",
       "<path clip-path=\"url(#clip362)\" d=\"M836.16 1121.7 L835.814 1121.5 L835.814 1121.1 L836.16 1120.9 L836.507 1121.1 L836.507 1121.5 Z\" fill=\"#009af9\" fill-rule=\"evenodd\" fill-opacity=\"1\" stroke=\"#000000\" stroke-opacity=\"1\" stroke-width=\"3.2\"/>\n",
       "<path clip-path=\"url(#clip362)\" d=\"M662.317 1256.94 L661.971 1256.74 L661.971 1256.34 L662.317 1256.14 L662.664 1256.34 L662.664 1256.74 Z\" fill=\"#009af9\" fill-rule=\"evenodd\" fill-opacity=\"1\" stroke=\"#000000\" stroke-opacity=\"1\" stroke-width=\"3.2\"/>\n",
       "<path clip-path=\"url(#clip362)\" d=\"M852.746 1338.08 L852.4 1337.88 L852.4 1337.48 L852.746 1337.28 L853.092 1337.48 L853.092 1337.88 Z\" fill=\"#009af9\" fill-rule=\"evenodd\" fill-opacity=\"1\" stroke=\"#000000\" stroke-opacity=\"1\" stroke-width=\"3.2\"/>\n",
       "<path clip-path=\"url(#clip362)\" d=\"M763.574 1017.53 L763.227 1017.33 L763.227 1016.93 L763.574 1016.73 L763.92 1016.93 L763.92 1017.33 Z\" fill=\"#009af9\" fill-rule=\"evenodd\" fill-opacity=\"1\" stroke=\"#000000\" stroke-opacity=\"1\" stroke-width=\"3.2\"/>\n",
       "<path clip-path=\"url(#clip362)\" d=\"M1099.11 881.367 L1098.76 881.167 L1098.76 880.767 L1099.11 880.567 L1099.45 880.767 L1099.45 881.167 Z\" fill=\"#009af9\" fill-rule=\"evenodd\" fill-opacity=\"1\" stroke=\"#000000\" stroke-opacity=\"1\" stroke-width=\"3.2\"/>\n",
       "<path clip-path=\"url(#clip360)\" d=\"M1206.06 273.994 L1212.74 273.994 L1212.74 250.924 L1205.47 252.382 L1205.47 248.656 L1212.7 247.197 L1216.79 247.197 L1216.79 273.994 L1223.48 273.994 L1223.48 277.437 L1206.06 277.437 L1206.06 273.994 Z\" fill=\"#000000\" fill-rule=\"nonzero\" fill-opacity=\"1\" /><path clip-path=\"url(#clip360)\" d=\"M1397.54 511.473 L1411.82 511.473 L1411.82 514.916 L1392.62 514.916 L1392.62 511.473 Q1394.95 509.063 1398.96 505.012 Q1402.99 500.94 1404.02 499.766 Q1405.98 497.558 1406.75 496.039 Q1407.54 494.5 1407.54 493.021 Q1407.54 490.611 1405.84 489.092 Q1404.16 487.573 1401.45 487.573 Q1399.52 487.573 1397.38 488.241 Q1395.25 488.909 1392.82 490.266 L1392.82 486.134 Q1395.29 485.142 1397.44 484.636 Q1399.58 484.129 1401.37 484.129 Q1406.06 484.129 1408.86 486.479 Q1411.66 488.828 1411.66 492.758 Q1411.66 494.621 1410.95 496.302 Q1410.26 497.963 1408.41 500.232 Q1407.91 500.819 1405.19 503.634 Q1402.48 506.429 1397.54 511.473 Z\" fill=\"#000000\" fill-rule=\"nonzero\" fill-opacity=\"1\" /><path clip-path=\"url(#clip360)\" d=\"M1371.75 784.303 Q1374.69 784.931 1376.33 786.916 Q1377.99 788.901 1377.99 791.818 Q1377.99 796.294 1374.91 798.745 Q1371.84 801.196 1366.16 801.196 Q1364.26 801.196 1362.23 800.811 Q1360.23 800.446 1358.08 799.697 L1358.08 795.747 Q1359.78 796.74 1361.81 797.246 Q1363.83 797.752 1366.04 797.752 Q1369.89 797.752 1371.9 796.233 Q1373.92 794.714 1373.92 791.818 Q1373.92 789.144 1372.04 787.645 Q1370.17 786.126 1366.83 786.126 L1363.31 786.126 L1363.31 782.764 L1366.99 782.764 Q1370.01 782.764 1371.61 781.569 Q1373.21 780.354 1373.21 778.085 Q1373.21 775.756 1371.55 774.52 Q1369.91 773.265 1366.83 773.265 Q1365.15 773.265 1363.23 773.629 Q1361.3 773.994 1358.99 774.763 L1358.99 771.118 Q1361.32 770.469 1363.35 770.145 Q1365.39 769.821 1367.2 769.821 Q1371.86 769.821 1374.57 771.948 Q1377.28 774.055 1377.28 777.66 Q1377.28 780.171 1375.85 781.913 Q1374.41 783.635 1371.75 784.303 Z\" fill=\"#000000\" fill-rule=\"nonzero\" fill-opacity=\"1\" /><path clip-path=\"url(#clip360)\" d=\"M1551.53 803.007 L1541.2 819.149 L1551.53 819.149 L1551.53 803.007 M1550.46 799.442 L1555.6 799.442 L1555.6 819.149 L1559.91 819.149 L1559.91 822.552 L1555.6 822.552 L1555.6 829.682 L1551.53 829.682 L1551.53 822.552 L1537.88 822.552 L1537.88 818.603 L1550.46 799.442 Z\" fill=\"#000000\" fill-rule=\"nonzero\" fill-opacity=\"1\" /><path clip-path=\"url(#clip360)\" d=\"M1675.61 1051.1 L1691.67 1051.1 L1691.67 1054.54 L1679.35 1054.54 L1679.35 1061.96 Q1680.24 1061.65 1681.14 1061.51 Q1682.03 1061.35 1682.92 1061.35 Q1687.98 1061.35 1690.94 1064.12 Q1693.9 1066.9 1693.9 1071.64 Q1693.9 1076.52 1690.86 1079.23 Q1687.82 1081.93 1682.29 1081.93 Q1680.39 1081.93 1678.4 1081.6 Q1676.44 1081.28 1674.33 1080.63 L1674.33 1076.52 Q1676.15 1077.51 1678.1 1078 Q1680.04 1078.48 1682.21 1078.48 Q1685.71 1078.48 1687.76 1076.64 Q1689.8 1074.8 1689.8 1071.64 Q1689.8 1068.48 1687.76 1066.63 Q1685.71 1064.79 1682.21 1064.79 Q1680.57 1064.79 1678.93 1065.16 Q1677.31 1065.52 1675.61 1066.29 L1675.61 1051.1 Z\" fill=\"#000000\" fill-rule=\"nonzero\" fill-opacity=\"1\" /><path clip-path=\"url(#clip360)\" d=\"M1587.98 1117.61 Q1585.22 1117.61 1583.6 1119.5 Q1582 1121.38 1582 1124.66 Q1582 1127.92 1583.6 1129.83 Q1585.22 1131.71 1587.98 1131.71 Q1590.73 1131.71 1592.33 1129.83 Q1593.95 1127.92 1593.95 1124.66 Q1593.95 1121.38 1592.33 1119.5 Q1590.73 1117.61 1587.98 1117.61 M1596.1 1104.79 L1596.1 1108.52 Q1594.56 1107.79 1592.98 1107.41 Q1591.42 1107.02 1589.88 1107.02 Q1585.83 1107.02 1583.68 1109.76 Q1581.56 1112.49 1581.25 1118.02 Q1582.45 1116.26 1584.25 1115.33 Q1586.05 1114.37 1588.22 1114.37 Q1592.78 1114.37 1595.41 1117.15 Q1598.06 1119.9 1598.06 1124.66 Q1598.06 1129.32 1595.31 1132.14 Q1592.56 1134.95 1587.98 1134.95 Q1582.73 1134.95 1579.96 1130.94 Q1577.18 1126.91 1577.18 1119.28 Q1577.18 1112.11 1580.58 1107.85 Q1583.99 1103.58 1589.72 1103.58 Q1591.26 1103.58 1592.82 1103.88 Q1594.4 1104.19 1596.1 1104.79 Z\" fill=\"#000000\" fill-rule=\"nonzero\" fill-opacity=\"1\" /><path clip-path=\"url(#clip360)\" d=\"M1727.96 1299.25 L1747.4 1299.25 L1747.4 1300.99 L1736.43 1329.49 L1732.15 1329.49 L1742.48 1302.69 L1727.96 1302.69 L1727.96 1299.25 Z\" fill=\"#000000\" fill-rule=\"nonzero\" fill-opacity=\"1\" /><path clip-path=\"url(#clip360)\" d=\"M1517.59 1309.05 Q1514.67 1309.05 1512.99 1310.61 Q1511.33 1312.17 1511.33 1314.9 Q1511.33 1317.64 1512.99 1319.2 Q1514.67 1320.75 1517.59 1320.75 Q1520.51 1320.75 1522.19 1319.2 Q1523.87 1317.62 1523.87 1314.9 Q1523.87 1312.17 1522.19 1310.61 Q1520.53 1309.05 1517.59 1309.05 M1513.5 1307.31 Q1510.87 1306.66 1509.39 1304.85 Q1507.93 1303.05 1507.93 1300.46 Q1507.93 1296.83 1510.5 1294.73 Q1513.09 1292.62 1517.59 1292.62 Q1522.11 1292.62 1524.68 1294.73 Q1527.25 1296.83 1527.25 1300.46 Q1527.25 1303.05 1525.77 1304.85 Q1524.32 1306.66 1521.7 1307.31 Q1524.66 1307.99 1526.3 1310 Q1527.96 1312 1527.96 1314.9 Q1527.96 1319.3 1525.27 1321.65 Q1522.59 1324 1517.59 1324 Q1512.59 1324 1509.89 1321.65 Q1507.22 1319.3 1507.22 1314.9 Q1507.22 1312 1508.88 1310 Q1510.54 1307.99 1513.5 1307.31 M1512 1300.84 Q1512 1303.19 1513.46 1304.51 Q1514.94 1305.83 1517.59 1305.83 Q1520.22 1305.83 1521.7 1304.51 Q1523.2 1303.19 1523.2 1300.84 Q1523.2 1298.49 1521.7 1297.18 Q1520.22 1295.86 1517.59 1295.86 Q1514.94 1295.86 1513.46 1297.18 Q1512 1298.49 1512 1300.84 Z\" fill=\"#000000\" fill-rule=\"nonzero\" fill-opacity=\"1\" /><path clip-path=\"url(#clip360)\" d=\"M1051.81 651.649 L1051.81 647.922 Q1053.35 648.651 1054.93 649.036 Q1056.51 649.421 1058.03 649.421 Q1062.08 649.421 1064.2 646.707 Q1066.35 643.972 1066.65 638.423 Q1065.48 640.165 1063.68 641.096 Q1061.87 642.028 1059.69 642.028 Q1055.15 642.028 1052.5 639.294 Q1049.86 636.539 1049.86 631.779 Q1049.86 627.121 1052.62 624.305 Q1055.37 621.49 1059.95 621.49 Q1065.2 621.49 1067.95 625.521 Q1070.73 629.531 1070.73 637.187 Q1070.73 644.337 1067.32 648.611 Q1063.94 652.864 1058.21 652.864 Q1056.67 652.864 1055.09 652.56 Q1053.51 652.257 1051.81 651.649 M1059.95 638.828 Q1062.7 638.828 1064.3 636.944 Q1065.93 635.06 1065.93 631.779 Q1065.93 628.518 1064.3 626.635 Q1062.7 624.731 1059.95 624.731 Q1057.2 624.731 1055.58 626.635 Q1053.97 628.518 1053.97 631.779 Q1053.97 635.06 1055.58 636.944 Q1057.2 638.828 1059.95 638.828 Z\" fill=\"#000000\" fill-rule=\"nonzero\" fill-opacity=\"1\" /><path clip-path=\"url(#clip360)\" d=\"M861.137 783.215 L867.821 783.215 L867.821 760.145 L860.549 761.604 L860.549 757.877 L867.78 756.419 L871.871 756.419 L871.871 783.215 L878.555 783.215 L878.555 786.659 L861.137 786.659 L861.137 783.215 Z\" fill=\"#000000\" fill-rule=\"nonzero\" fill-opacity=\"1\" /><path clip-path=\"url(#clip360)\" d=\"M895.569 759.112 Q892.41 759.112 890.809 762.232 Q889.23 765.331 889.23 771.569 Q889.23 777.787 890.809 780.906 Q892.41 784.005 895.569 784.005 Q898.749 784.005 900.329 780.906 Q901.929 777.787 901.929 771.569 Q901.929 765.331 900.329 762.232 Q898.749 759.112 895.569 759.112 M895.569 755.872 Q900.653 755.872 903.327 759.902 Q906.021 763.913 906.021 771.569 Q906.021 779.205 903.327 783.236 Q900.653 787.246 895.569 787.246 Q890.485 787.246 887.792 783.236 Q885.118 779.205 885.118 771.569 Q885.118 763.913 887.792 759.902 Q890.485 755.872 895.569 755.872 Z\" fill=\"#000000\" fill-rule=\"nonzero\" fill-opacity=\"1\" /><path clip-path=\"url(#clip360)\" d=\"M814.549 1132.97 L821.233 1132.97 L821.233 1109.9 L813.961 1111.36 L813.961 1107.63 L821.192 1106.18 L825.284 1106.18 L825.284 1132.97 L831.968 1132.97 L831.968 1136.42 L814.549 1136.42 L814.549 1132.97 Z\" fill=\"#000000\" fill-rule=\"nonzero\" fill-opacity=\"1\" /><path clip-path=\"url(#clip360)\" d=\"M840.94 1132.97 L847.624 1132.97 L847.624 1109.9 L840.353 1111.36 L840.353 1107.63 L847.584 1106.18 L851.675 1106.18 L851.675 1132.97 L858.359 1132.97 L858.359 1136.42 L840.94 1136.42 L840.94 1132.97 Z\" fill=\"#000000\" fill-rule=\"nonzero\" fill-opacity=\"1\" /><path clip-path=\"url(#clip360)\" d=\"M640.868 1268.22 L647.552 1268.22 L647.552 1245.15 L640.28 1246.61 L640.28 1242.88 L647.511 1241.42 L651.603 1241.42 L651.603 1268.22 L658.287 1268.22 L658.287 1271.66 L640.868 1271.66 L640.868 1268.22 Z\" fill=\"#000000\" fill-rule=\"nonzero\" fill-opacity=\"1\" /><path clip-path=\"url(#clip360)\" d=\"M670.075 1268.22 L684.354 1268.22 L684.354 1271.66 L665.153 1271.66 L665.153 1268.22 Q667.482 1265.81 671.493 1261.76 Q675.523 1257.69 676.556 1256.51 Q678.521 1254.3 679.29 1252.79 Q680.08 1251.25 680.08 1249.77 Q680.08 1247.36 678.379 1245.84 Q676.698 1244.32 673.984 1244.32 Q672.06 1244.32 669.913 1244.99 Q667.786 1245.66 665.355 1247.01 L665.355 1242.88 Q667.826 1241.89 669.973 1241.38 Q672.12 1240.88 673.903 1240.88 Q678.602 1240.88 681.397 1243.23 Q684.192 1245.58 684.192 1249.5 Q684.192 1251.37 683.483 1253.05 Q682.795 1254.71 680.951 1256.98 Q680.445 1257.57 677.731 1260.38 Q675.017 1263.18 670.075 1268.22 Z\" fill=\"#000000\" fill-rule=\"nonzero\" fill-opacity=\"1\" /><path clip-path=\"url(#clip360)\" d=\"M830.881 1349.36 L837.565 1349.36 L837.565 1326.29 L830.294 1327.75 L830.294 1324.02 L837.525 1322.56 L841.616 1322.56 L841.616 1349.36 L848.3 1349.36 L848.3 1352.8 L830.881 1352.8 L830.881 1349.36 Z\" fill=\"#000000\" fill-rule=\"nonzero\" fill-opacity=\"1\" /><path clip-path=\"url(#clip360)\" d=\"M868.96 1336.5 Q871.897 1337.13 873.537 1339.11 Q875.198 1341.1 875.198 1344.01 Q875.198 1348.49 872.12 1350.94 Q869.041 1353.39 863.37 1353.39 Q861.466 1353.39 859.44 1353.01 Q857.435 1352.64 855.288 1351.89 L855.288 1347.94 Q856.989 1348.93 859.015 1349.44 Q861.04 1349.95 863.248 1349.95 Q867.096 1349.95 869.102 1348.43 Q871.127 1346.91 871.127 1344.01 Q871.127 1341.34 869.243 1339.84 Q867.38 1338.32 864.038 1338.32 L860.514 1338.32 L860.514 1334.96 L864.2 1334.96 Q867.218 1334.96 868.818 1333.76 Q870.418 1332.55 870.418 1330.28 Q870.418 1327.95 868.757 1326.71 Q867.117 1325.46 864.038 1325.46 Q862.357 1325.46 860.433 1325.82 Q858.508 1326.19 856.199 1326.96 L856.199 1323.31 Q858.529 1322.66 860.554 1322.34 Q862.6 1322.02 864.403 1322.02 Q869.061 1322.02 871.775 1324.14 Q874.489 1326.25 874.489 1329.85 Q874.489 1332.37 873.051 1334.11 Q871.613 1335.83 868.96 1336.5 Z\" fill=\"#000000\" fill-rule=\"nonzero\" fill-opacity=\"1\" /><path clip-path=\"url(#clip360)\" d=\"M741.213 1028.81 L747.897 1028.81 L747.897 1005.74 L740.625 1007.19 L740.625 1003.47 L747.856 1002.01 L751.947 1002.01 L751.947 1028.81 L758.631 1028.81 L758.631 1032.25 L741.213 1032.25 L741.213 1028.81 Z\" fill=\"#000000\" fill-rule=\"nonzero\" fill-opacity=\"1\" /><path clip-path=\"url(#clip360)\" d=\"M778.137 1005.57 L767.807 1021.72 L778.137 1021.72 L778.137 1005.57 M777.063 1002.01 L782.208 1002.01 L782.208 1021.72 L786.522 1021.72 L786.522 1025.12 L782.208 1025.12 L782.208 1032.25 L778.137 1032.25 L778.137 1025.12 L764.485 1025.12 L764.485 1021.17 L777.063 1002.01 Z\" fill=\"#000000\" fill-rule=\"nonzero\" fill-opacity=\"1\" /><path clip-path=\"url(#clip360)\" d=\"M1077.39 892.644 L1084.08 892.644 L1084.08 869.574 L1076.81 871.032 L1076.81 867.306 L1084.04 865.847 L1088.13 865.847 L1088.13 892.644 L1094.81 892.644 L1094.81 896.087 L1077.39 896.087 L1077.39 892.644 Z\" fill=\"#000000\" fill-rule=\"nonzero\" fill-opacity=\"1\" /><path clip-path=\"url(#clip360)\" d=\"M1103.12 865.847 L1119.18 865.847 L1119.18 869.29 L1106.86 869.29 L1106.86 876.704 Q1107.75 876.4 1108.65 876.258 Q1109.54 876.096 1110.43 876.096 Q1115.49 876.096 1118.45 878.871 Q1121.41 881.646 1121.41 886.385 Q1121.41 891.267 1118.37 893.981 Q1115.33 896.675 1109.8 896.675 Q1107.9 896.675 1105.91 896.351 Q1103.95 896.026 1101.84 895.378 L1101.84 891.267 Q1103.66 892.259 1105.61 892.745 Q1107.55 893.231 1109.72 893.231 Q1113.22 893.231 1115.27 891.388 Q1117.31 889.545 1117.31 886.385 Q1117.31 883.226 1115.27 881.382 Q1113.22 879.539 1109.72 879.539 Q1108.08 879.539 1106.44 879.904 Q1104.82 880.268 1103.12 881.038 L1103.12 865.847 Z\" fill=\"#000000\" fill-rule=\"nonzero\" fill-opacity=\"1\" /></svg>\n"
      ]
     },
     "metadata": {},
     "output_type": "display_data"
    },
    {
     "name": "stdout",
     "output_type": "stream",
     "text": [
      "\n",
      "Node number 1: \n",
      "---------------\n",
      "\n",
      "Max 42 x[1] + 40 x[2] + 12 x[3] + 25 x[4]\n",
      "Subject to\n",
      " 7 x[1] + 4 x[2] + 3 x[3] + 5 x[4] ≤ 10\n",
      " x[1] ≥ 1\n",
      " x[2] ≥ 0\n",
      " x[3] ≥ 0\n",
      " x[4] ≥ 0\n",
      " x[1] ≤ 1\n",
      " x[2] ≤ 1\n",
      " x[3] ≤ 1\n",
      " x[4] ≤ 1\n",
      "\n",
      "Solve the LP model of the current node to compute its bound: start ... ... end\n",
      ": Solution LP 72.0\tx[1]=1.0\tx[2]=0.7500000000000001\tx[3]=0.0\tx[4]=0.0 \n",
      "\n",
      "Previous Solution memorized Float64[] with bestprofit -1.0\n",
      "\n",
      "non sondable\n",
      "\n",
      "branch on object 2\n",
      "\n",
      "\n",
      "Node number 2: \n",
      "---------------\n",
      "\n",
      "Max 42 x[1] + 40 x[2] + 12 x[3] + 25 x[4]\n",
      "Subject to\n",
      " 7 x[1] + 4 x[2] + 3 x[3] + 5 x[4] ≤ 10\n",
      " x[1] ≥ 1\n",
      " x[2] ≥ 1\n",
      " x[3] ≥ 0\n",
      " x[4] ≥ 0\n",
      " x[1] ≤ 1\n",
      " x[2] ≤ 1\n",
      " x[3] ≤ 1\n",
      " x[4] ≤ 1\n",
      "\n",
      "Solve the LP model of the current node to compute its bound: start ... ... end\n",
      ": Solution LP : NOT AVAILABLE (probably infeasible or ressources limit reached) \n",
      "\n",
      "Previous Solution memorized Float64[] with bestprofit -1.0\n",
      "\n",
      "TA\n",
      "\n",
      "Node number 3: \n",
      "---------------\n",
      "\n",
      "Max 42 x[1] + 40 x[2] + 12 x[3] + 25 x[4]\n",
      "Subject to\n",
      " 7 x[1] + 4 x[2] + 3 x[3] + 5 x[4] ≤ 10\n",
      " x[1] ≥ 1\n",
      " x[2] ≥ 0\n",
      " x[3] ≥ 0\n",
      " x[4] ≥ 0\n",
      " x[1] ≤ 1\n",
      " x[2] ≤ 0\n",
      " x[3] ≤ 1\n",
      " x[4] ≤ 1\n",
      "\n",
      "Solve the LP model of the current node to compute its bound: start ... ... end\n",
      ": Solution LP 57.0\tx[1]=1.0\tx[2]=0.0\tx[3]=0.0\tx[4]=0.6 \n",
      "\n",
      "Previous Solution memorized Float64[] with bestprofit -1.0\n",
      "\n",
      "non sondable\n",
      "\n",
      "branch on object 3\n",
      "\n",
      "\n",
      "Node number 4: \n",
      "---------------\n",
      "\n",
      "Max 42 x[1] + 40 x[2] + 12 x[3] + 25 x[4]\n",
      "Subject to\n",
      " 7 x[1] + 4 x[2] + 3 x[3] + 5 x[4] ≤ 10\n",
      " x[1] ≥ 1\n",
      " x[2] ≥ 0\n",
      " x[3] ≥ 1\n",
      " x[4] ≥ 0\n",
      " x[1] ≤ 1\n",
      " x[2] ≤ 0\n",
      " x[3] ≤ 1\n",
      " x[4] ≤ 1\n",
      "\n",
      "Solve the LP model of the current node to compute its bound: start ... ... end\n",
      ": Solution LP 54.0\tx[1]=1.0\tx[2]=0.0\tx[3]=1.0\tx[4]=0.0 \n",
      "\n",
      "Previous Solution memorized Float64[] with bestprofit -1.0\n",
      "\n",
      "TR\n",
      "\n",
      "New Solution memorized [1.0, 0.0, 1.0, 0.0] with bestprofit 54.0\n",
      "\n",
      "\n",
      "Node number 5: \n",
      "---------------\n",
      "\n",
      "Max 42 x[1] + 40 x[2] + 12 x[3] + 25 x[4]\n",
      "Subject to\n",
      " 7 x[1] + 4 x[2] + 3 x[3] + 5 x[4] ≤ 10\n",
      " x[1] ≥ 1\n",
      " x[2] ≥ 0\n",
      " x[3] ≥ 0\n",
      " x[4] ≥ 0\n",
      " x[1] ≤ 1\n",
      " x[2] ≤ 0\n",
      " x[3] ≤ 0\n",
      " x[4] ≤ 1\n",
      "\n",
      "Solve the LP model of the current node to compute its bound: start ... ... end\n",
      ": Solution LP 57.0\tx[1]=1.0\tx[2]=0.0\tx[3]=0.0\tx[4]=0.6 \n",
      "\n",
      "Previous Solution memorized [1.0, 0.0, 1.0, 0.0] with bestprofit 54.0\n",
      "\n",
      "non sondable\n",
      "\n",
      "branch on object 4\n",
      "\n",
      "\n",
      "Node number 6: \n",
      "---------------\n",
      "\n",
      "Max 42 x[1] + 40 x[2] + 12 x[3] + 25 x[4]\n",
      "Subject to\n",
      " 7 x[1] + 4 x[2] + 3 x[3] + 5 x[4] ≤ 10\n",
      " x[1] ≥ 1\n",
      " x[2] ≥ 0\n",
      " x[3] ≥ 0\n",
      " x[4] ≥ 1\n",
      " x[1] ≤ 1\n",
      " x[2] ≤ 0\n",
      " x[3] ≤ 0\n",
      " x[4] ≤ 1\n",
      "\n",
      "Solve the LP model of the current node to compute its bound: start ... ... end\n",
      ": Solution LP : NOT AVAILABLE (probably infeasible or ressources limit reached) \n",
      "\n",
      "Previous Solution memorized [1.0, 0.0, 1.0, 0.0] with bestprofit 54.0\n",
      "\n",
      "TA\n",
      "\n",
      "Node number 7: \n",
      "---------------\n",
      "\n",
      "Max 42 x[1] + 40 x[2] + 12 x[3] + 25 x[4]\n",
      "Subject to\n",
      " 7 x[1] + 4 x[2] + 3 x[3] + 5 x[4] ≤ 10\n",
      " x[1] ≥ 1\n",
      " x[2] ≥ 0\n",
      " x[3] ≥ 0\n",
      " x[4] ≥ 0\n",
      " x[1] ≤ 1\n",
      " x[2] ≤ 0\n",
      " x[3] ≤ 0\n",
      " x[4] ≤ 0\n",
      "\n",
      "Solve the LP model of the current node to compute its bound: start ... ... end\n",
      ": Solution LP 42.0\tx[1]=1.0\tx[2]=0.0\tx[3]=0.0\tx[4]=0.0 \n",
      "\n",
      "Previous Solution memorized [1.0, 0.0, 1.0, 0.0] with bestprofit 54.0\n",
      "\n",
      "TO\n",
      "\n",
      "Node number 8: \n",
      "---------------\n",
      "\n",
      "Max 42 x[1] + 40 x[2] + 12 x[3] + 25 x[4]\n",
      "Subject to\n",
      " 7 x[1] + 4 x[2] + 3 x[3] + 5 x[4] ≤ 10\n",
      " x[1] ≥ 0\n",
      " x[2] ≥ 0\n",
      " x[3] ≥ 0\n",
      " x[4] ≥ 0\n",
      " x[1] ≤ 0\n",
      " x[2] ≤ 1\n",
      " x[3] ≤ 1\n",
      " x[4] ≤ 1\n",
      "\n",
      "Solve the LP model of the current node to compute its bound: start ... ... end\n",
      ": Solution LP 69.0\tx[1]=0.0\tx[2]=1.0\tx[3]=0.3333333333333332\tx[4]=1.0 \n",
      "\n",
      "Previous Solution memorized [1.0, 0.0, 1.0, 0.0] with bestprofit 54.0\n",
      "\n",
      "non sondable\n",
      "\n",
      "branch on object 2\n",
      "\n",
      "\n",
      "Node number 9: \n",
      "---------------\n",
      "\n",
      "Max 42 x[1] + 40 x[2] + 12 x[3] + 25 x[4]\n",
      "Subject to\n",
      " 7 x[1] + 4 x[2] + 3 x[3] + 5 x[4] ≤ 10\n",
      " x[1] ≥ 0\n",
      " x[2] ≥ 1\n",
      " x[3] ≥ 0\n",
      " x[4] ≥ 0\n",
      " x[1] ≤ 0\n",
      " x[2] ≤ 1\n",
      " x[3] ≤ 1\n",
      " x[4] ≤ 1\n",
      "\n",
      "Solve the LP model of the current node to compute its bound: start ... ... end\n",
      ": Solution LP 69.0\tx[1]=0.0\tx[2]=1.0\tx[3]=0.3333333333333336\tx[4]=1.0 \n",
      "\n",
      "Previous Solution memorized [1.0, 0.0, 1.0, 0.0] with bestprofit 54.0\n",
      "\n",
      "non sondable\n",
      "\n",
      "branch on object 3\n",
      "\n",
      "\n",
      "Node number 10: \n",
      "---------------\n",
      "\n",
      "Max 42 x[1] + 40 x[2] + 12 x[3] + 25 x[4]\n",
      "Subject to\n",
      " 7 x[1] + 4 x[2] + 3 x[3] + 5 x[4] ≤ 10\n",
      " x[1] ≥ 0\n",
      " x[2] ≥ 1\n",
      " x[3] ≥ 1\n",
      " x[4] ≥ 0\n",
      " x[1] ≤ 0\n",
      " x[2] ≤ 1\n",
      " x[3] ≤ 1\n",
      " x[4] ≤ 1\n",
      "\n",
      "Solve the LP model of the current node to compute its bound: start ... ... end\n",
      ": Solution LP 67.0\tx[1]=0.0\tx[2]=1.0\tx[3]=1.0\tx[4]=0.6 \n",
      "\n",
      "Previous Solution memorized [1.0, 0.0, 1.0, 0.0] with bestprofit 54.0\n",
      "\n",
      "non sondable\n",
      "\n",
      "branch on object 4\n",
      "\n",
      "\n",
      "Node number 11: \n",
      "---------------\n",
      "\n",
      "Max 42 x[1] + 40 x[2] + 12 x[3] + 25 x[4]\n",
      "Subject to\n",
      " 7 x[1] + 4 x[2] + 3 x[3] + 5 x[4] ≤ 10\n",
      " x[1] ≥ 0\n",
      " x[2] ≥ 1\n",
      " x[3] ≥ 1\n",
      " x[4] ≥ 1\n",
      " x[1] ≤ 0\n",
      " x[2] ≤ 1\n",
      " x[3] ≤ 1\n",
      " x[4] ≤ 1\n",
      "\n",
      "Solve the LP model of the current node to compute its bound: start ... ... end\n",
      ": Solution LP : NOT AVAILABLE (probably infeasible or ressources limit reached) \n",
      "\n",
      "Previous Solution memorized [1.0, 0.0, 1.0, 0.0] with bestprofit 54.0\n",
      "\n",
      "TA\n",
      "\n",
      "Node number 12: \n",
      "---------------\n",
      "\n",
      "Max 42 x[1] + 40 x[2] + 12 x[3] + 25 x[4]\n",
      "Subject to\n",
      " 7 x[1] + 4 x[2] + 3 x[3] + 5 x[4] ≤ 10\n",
      " x[1] ≥ 0\n",
      " x[2] ≥ 1\n",
      " x[3] ≥ 1\n",
      " x[4] ≥ 0\n",
      " x[1] ≤ 0\n",
      " x[2] ≤ 1\n",
      " x[3] ≤ 1\n",
      " x[4] ≤ 0\n",
      "\n",
      "Solve the LP model of the current node to compute its bound: start ... ... end\n",
      ": Solution LP 52.0\tx[1]=0.0\tx[2]=1.0\tx[3]=1.0\tx[4]=0.0 \n",
      "\n",
      "Previous Solution memorized [1.0, 0.0, 1.0, 0.0] with bestprofit 54.0\n",
      "\n",
      "TO\n",
      "\n",
      "Node number 13: \n",
      "---------------\n",
      "\n",
      "Max 42 x[1] + 40 x[2] + 12 x[3] + 25 x[4]\n",
      "Subject to\n",
      " 7 x[1] + 4 x[2] + 3 x[3] + 5 x[4] ≤ 10\n",
      " x[1] ≥ 0\n",
      " x[2] ≥ 1\n",
      " x[3] ≥ 0\n",
      " x[4] ≥ 0\n",
      " x[1] ≤ 0\n",
      " x[2] ≤ 1\n",
      " x[3] ≤ 0\n",
      " x[4] ≤ 1\n",
      "\n",
      "Solve the LP model of the current node to compute its bound: start ... ... end\n",
      ": Solution LP 65.0\tx[1]=0.0\tx[2]=1.0\tx[3]=0.0\tx[4]=1.0 \n",
      "\n",
      "Previous Solution memorized [1.0, 0.0, 1.0, 0.0] with bestprofit 54.0\n",
      "\n",
      "TR\n",
      "\n",
      "New Solution memorized [0.0, 1.0, 0.0, 1.0] with bestprofit 65.0\n",
      "\n",
      "\n",
      "Node number 14: \n",
      "---------------\n",
      "\n",
      "Max 42 x[1] + 40 x[2] + 12 x[3] + 25 x[4]\n",
      "Subject to\n",
      " 7 x[1] + 4 x[2] + 3 x[3] + 5 x[4] ≤ 10\n",
      " x[1] ≥ 0\n",
      " x[2] ≥ 0\n",
      " x[3] ≥ 0\n",
      " x[4] ≥ 0\n",
      " x[1] ≤ 0\n",
      " x[2] ≤ 0\n",
      " x[3] ≤ 1\n",
      " x[4] ≤ 1\n",
      "\n",
      "Solve the LP model of the current node to compute its bound: start ... ... end\n",
      ": Solution LP 37.0\tx[1]=0.0\tx[2]=0.0\tx[3]=1.0\tx[4]=1.0 \n",
      "\n",
      "Previous Solution memorized [0.0, 1.0, 0.0, 1.0] with bestprofit 65.0\n",
      "\n",
      "TO\n",
      "\n",
      "FINISHED\n",
      "\n",
      "******\n",
      "\n",
      "Optimal value = 65.0\n",
      "\n",
      "Optimal x=[0.0, 1.0, 0.0, 1.0]\n",
      "\n",
      "******\n",
      "\n",
      "Optimal value = 65.0\n",
      "\n",
      "Optimal x=[0.0, 1.0, 0.0, 1.0]\n",
      "\n",
      " Branch-and-bound tree visualization : start display ...\n",
      "... end display. \n",
      "\n"
     ]
    },
    {
     "name": "stdout",
     "output_type": "stream",
     "text": [
      "\n",
      "press enter to exit ! \n"
     ]
    },
    {
     "ename": "UndefVarError",
     "evalue": "UndefVarError: execute_msg not defined",
     "output_type": "error",
     "traceback": [
      "UndefVarError: execute_msg not defined\n",
      "\n",
      "Stacktrace:\n",
      " [1] readprompt(prompt::String; password::Bool)\n",
      "   @ VSCodeServer.IJuliaCore ~/.vscode/extensions/julialang.language-julia-1.61.2/scripts/packages/IJuliaCore/src/stdio.jl:190\n",
      " [2] readprompt\n",
      "   @ ~/.vscode/extensions/julialang.language-julia-1.61.2/scripts/packages/IJuliaCore/src/stdio.jl:188 [inlined]\n",
      " [3] readline(io::VSCodeServer.IJuliaCore.IJuliaStdio{Base.PipeEndpoint, typeof(VSCodeServer.io_send_callback)})\n",
      "   @ VSCodeServer.IJuliaCore ~/.vscode/extensions/julialang.language-julia-1.61.2/scripts/packages/IJuliaCore/src/stdio.jl:232\n",
      " [4] readline()\n",
      "   @ Base ./io.jl:542\n",
      " [5] top-level scope\n",
      "   @ ~/Bureau/2A/RO/TP2/NotebookTP2.ipynb:6"
     ]
    }
   ],
   "source": [
    "INSTANCE = \"InstancesKnapSack/test.opb.txt\"\n",
    "\n",
    "solveNdisplayKnap(INSTANCE)\n",
    "\n",
    "println(\"press enter to exit ! \")\n",
    "readline()"
   ]
  },
  {
   "cell_type": "code",
   "execution_count": 64,
   "metadata": {},
   "outputs": [
    {
     "data": {
      "text/plain": [
       "1×4 adjoint(::Vector{Float64}) with eltype Float64:\n",
       " 0.0  1.0  0.0  1.0"
      ]
     },
     "metadata": {},
     "output_type": "display_data"
    }
   ],
   "source": [
    "# Lire les données du fichier .txt\n",
    "price, weight, capacity = readKnaptxtInstance(\"InstancesKnapSack/test.opb.txt\")\n",
    "\n",
    "# Initialisation de la matrice des itérations\n",
    "n = capacity+1\n",
    "m = length(weight)+1 \n",
    "IterMatrix = zeros(n, m)\n",
    "\n",
    "\n",
    "for j in 2:m\n",
    "    for i in 2:n\n",
    "        if weight[j-1] >= i\n",
    "            IterMatrix[i, j] = IterMatrix[i, j-1]\n",
    "        else \n",
    "            IterMatrix[i, j] = max(IterMatrix[i, j-1], IterMatrix[i-weight[j-1], j-1] + price[j-1])\n",
    "        end\n",
    "    end\n",
    "end\n",
    "\n",
    "CheminEmprunte = zeros(length(weight))\n",
    "\n",
    "derniereColonne = IterMatrix[:, m]\n",
    "maxCourant = maximum(derniereColonne)\n",
    "indiceMaxCourant = argmax(derniereColonne)\n",
    "for j in 2:m\n",
    "    if maxCourant == IterMatrix[indiceMaxCourant, (m-j+1)]\n",
    "        CheminEmprunte[m-j+1] = 0\n",
    "        maxCourant = IterMatrix[indiceMaxCourant, (m-j+1)]\n",
    "    else\n",
    "        CheminEmprunte[m-j+1] = 1\n",
    "        indiceMaxCourant = indiceMaxCourant - weight[m-j+1]\n",
    "        maxCourant = IterMatrix[indiceMaxCourant, (m-j+1)]\n",
    "    end\n",
    "end\n",
    "\n",
    "CheminEmprunte'"
   ]
  },
  {
   "cell_type": "code",
   "execution_count": 59,
   "metadata": {},
   "outputs": [
    {
     "data": {
      "text/plain": [
       "2"
      ]
     },
     "metadata": {},
     "output_type": "display_data"
    }
   ],
   "source": [
    "A = [1 2 \n",
    "    3 4]\n",
    "\n",
    "colonneCourante = A[:,2]\n",
    "\n",
    "indiceMax = argmax(colonneCourante)\n"
   ]
  }
 ],
 "metadata": {
  "kernelspec": {
   "display_name": "Julia 1.8.2",
   "language": "julia",
   "name": "julia-1.8"
  },
  "language_info": {
   "file_extension": ".jl",
   "mimetype": "application/julia",
   "name": "julia",
   "version": "1.8.2"
  }
 },
 "nbformat": 4,
 "nbformat_minor": 4
}
